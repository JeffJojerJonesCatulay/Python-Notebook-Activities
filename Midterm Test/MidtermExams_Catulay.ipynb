{
 "cells": [
  {
   "cell_type": "markdown",
   "metadata": {},
   "source": [
    "# Jeff Jojer Jones E. Catulay\n",
    "BSCS 3B"
   ]
  },
  {
   "cell_type": "markdown",
   "metadata": {},
   "source": [
    "# MIDTERM LAB EXAM:\n",
    "1.) Use sales-data sheet from assignment-data.xlsx on your existing dataset and\n",
    "do the following tasks:\n",
    "The Managing Director found that there is no clarity in sales-data. He likes to see\n",
    "clear visualization of data in various dimensions. He instructed his junior data\n",
    "scientist “Mr.Bean” to reshape the data.\n",
    "# Part-1:\n",
    "Mr.Bean decided to display the product details produced by every company, along\n",
    "with supervisor detail. [ Hint: Use Pivot Table]. The expected output is as follows:"
   ]
  },
  {
   "cell_type": "code",
   "execution_count": 2,
   "metadata": {},
   "outputs": [],
   "source": [
    "# import library\n",
    "# pip install pandas\n",
    "# pip install numpy\n",
    "import pandas as pd, numpy as np"
   ]
  },
  {
   "cell_type": "code",
   "execution_count": 3,
   "metadata": {},
   "outputs": [
    {
     "data": {
      "text/html": [
       "<div>\n",
       "<style scoped>\n",
       "    .dataframe tbody tr th:only-of-type {\n",
       "        vertical-align: middle;\n",
       "    }\n",
       "\n",
       "    .dataframe tbody tr th {\n",
       "        vertical-align: top;\n",
       "    }\n",
       "\n",
       "    .dataframe thead th {\n",
       "        text-align: right;\n",
       "    }\n",
       "</style>\n",
       "<table border=\"1\" class=\"dataframe\">\n",
       "  <thead>\n",
       "    <tr style=\"text-align: right;\">\n",
       "      <th></th>\n",
       "      <th>Account-no</th>\n",
       "      <th>company-name</th>\n",
       "      <th>co-supervisor</th>\n",
       "      <th>supervisor</th>\n",
       "      <th>Product-detail</th>\n",
       "      <th>total-quantity</th>\n",
       "      <th>Price</th>\n",
       "      <th>Status</th>\n",
       "    </tr>\n",
       "  </thead>\n",
       "  <tbody>\n",
       "    <tr>\n",
       "      <th>0</th>\n",
       "      <td>A300</td>\n",
       "      <td>Apple</td>\n",
       "      <td>Julia</td>\n",
       "      <td>Peter Prince</td>\n",
       "      <td>search engine</td>\n",
       "      <td>2</td>\n",
       "      <td>40000</td>\n",
       "      <td>Finished</td>\n",
       "    </tr>\n",
       "    <tr>\n",
       "      <th>1</th>\n",
       "      <td>A300</td>\n",
       "      <td>Apple</td>\n",
       "      <td>Julia</td>\n",
       "      <td>Peter Prince</td>\n",
       "      <td>Software</td>\n",
       "      <td>2</td>\n",
       "      <td>20000</td>\n",
       "      <td>Finished</td>\n",
       "    </tr>\n",
       "    <tr>\n",
       "      <th>2</th>\n",
       "      <td>A300</td>\n",
       "      <td>Apple</td>\n",
       "      <td>Julia</td>\n",
       "      <td>Peter Prince</td>\n",
       "      <td>printer</td>\n",
       "      <td>3</td>\n",
       "      <td>6000</td>\n",
       "      <td>yet to finish</td>\n",
       "    </tr>\n",
       "    <tr>\n",
       "      <th>3</th>\n",
       "      <td>A301</td>\n",
       "      <td>Google</td>\n",
       "      <td>Julia</td>\n",
       "      <td>Peter Prince</td>\n",
       "      <td>search engine</td>\n",
       "      <td>2</td>\n",
       "      <td>45000</td>\n",
       "      <td>declined</td>\n",
       "    </tr>\n",
       "    <tr>\n",
       "      <th>4</th>\n",
       "      <td>A302</td>\n",
       "      <td>Facebook</td>\n",
       "      <td>Mary Lim</td>\n",
       "      <td>Peter Prince</td>\n",
       "      <td>search engine</td>\n",
       "      <td>3</td>\n",
       "      <td>54000</td>\n",
       "      <td>won</td>\n",
       "    </tr>\n",
       "    <tr>\n",
       "      <th>5</th>\n",
       "      <td>A304</td>\n",
       "      <td>HCL</td>\n",
       "      <td>Mary Lim</td>\n",
       "      <td>Peter Prince</td>\n",
       "      <td>search engine</td>\n",
       "      <td>3</td>\n",
       "      <td>43000</td>\n",
       "      <td>yet to finish</td>\n",
       "    </tr>\n",
       "    <tr>\n",
       "      <th>6</th>\n",
       "      <td>A304</td>\n",
       "      <td>HCL</td>\n",
       "      <td>Mary Lim</td>\n",
       "      <td>Peter Prince</td>\n",
       "      <td>Software</td>\n",
       "      <td>2</td>\n",
       "      <td>12000</td>\n",
       "      <td>Finished</td>\n",
       "    </tr>\n",
       "    <tr>\n",
       "      <th>7</th>\n",
       "      <td>A304</td>\n",
       "      <td>HCL</td>\n",
       "      <td>Jason</td>\n",
       "      <td>Peter Prince</td>\n",
       "      <td>printer</td>\n",
       "      <td>3</td>\n",
       "      <td>8000</td>\n",
       "      <td>yet to finish</td>\n",
       "    </tr>\n",
       "    <tr>\n",
       "      <th>8</th>\n",
       "      <td>A305</td>\n",
       "      <td>ABC ltd</td>\n",
       "      <td>Jason</td>\n",
       "      <td>Peter Prince</td>\n",
       "      <td>search engine</td>\n",
       "      <td>2</td>\n",
       "      <td>25000</td>\n",
       "      <td>declined</td>\n",
       "    </tr>\n",
       "    <tr>\n",
       "      <th>9</th>\n",
       "      <td>A306</td>\n",
       "      <td>SAP</td>\n",
       "      <td>Isabella</td>\n",
       "      <td>David Anderson</td>\n",
       "      <td>search engine</td>\n",
       "      <td>3</td>\n",
       "      <td>75000</td>\n",
       "      <td>won</td>\n",
       "    </tr>\n",
       "    <tr>\n",
       "      <th>10</th>\n",
       "      <td>A307</td>\n",
       "      <td>Adobe</td>\n",
       "      <td>Isabella</td>\n",
       "      <td>David Anderson</td>\n",
       "      <td>search engine</td>\n",
       "      <td>2</td>\n",
       "      <td>23000</td>\n",
       "      <td>yet to finish</td>\n",
       "    </tr>\n",
       "    <tr>\n",
       "      <th>11</th>\n",
       "      <td>A308</td>\n",
       "      <td>XYZ company</td>\n",
       "      <td>Isabella</td>\n",
       "      <td>David Anderson</td>\n",
       "      <td>printer</td>\n",
       "      <td>2</td>\n",
       "      <td>3000</td>\n",
       "      <td>yet to finish</td>\n",
       "    </tr>\n",
       "    <tr>\n",
       "      <th>12</th>\n",
       "      <td>A308</td>\n",
       "      <td>XYZ company</td>\n",
       "      <td>Isabella</td>\n",
       "      <td>David Anderson</td>\n",
       "      <td>Software</td>\n",
       "      <td>2</td>\n",
       "      <td>9000</td>\n",
       "      <td>Finished</td>\n",
       "    </tr>\n",
       "    <tr>\n",
       "      <th>13</th>\n",
       "      <td>A309</td>\n",
       "      <td>Microsoft</td>\n",
       "      <td>Xavier</td>\n",
       "      <td>David Anderson</td>\n",
       "      <td>printer</td>\n",
       "      <td>4</td>\n",
       "      <td>5000</td>\n",
       "      <td>won</td>\n",
       "    </tr>\n",
       "    <tr>\n",
       "      <th>14</th>\n",
       "      <td>A310</td>\n",
       "      <td>Oracle</td>\n",
       "      <td>Xavier</td>\n",
       "      <td>David Anderson</td>\n",
       "      <td>search engine</td>\n",
       "      <td>6</td>\n",
       "      <td>90000</td>\n",
       "      <td>won</td>\n",
       "    </tr>\n",
       "    <tr>\n",
       "      <th>15</th>\n",
       "      <td>A311</td>\n",
       "      <td>Infosys</td>\n",
       "      <td>Xavier</td>\n",
       "      <td>David Anderson</td>\n",
       "      <td>search engine</td>\n",
       "      <td>3</td>\n",
       "      <td>69000</td>\n",
       "      <td>declined</td>\n",
       "    </tr>\n",
       "    <tr>\n",
       "      <th>16</th>\n",
       "      <td>A312</td>\n",
       "      <td>Infosys</td>\n",
       "      <td>Xavier</td>\n",
       "      <td>David Anderson</td>\n",
       "      <td>Monitor</td>\n",
       "      <td>3</td>\n",
       "      <td>4000</td>\n",
       "      <td>Finished</td>\n",
       "    </tr>\n",
       "  </tbody>\n",
       "</table>\n",
       "</div>"
      ],
      "text/plain": [
       "   Account-no company-name co-supervisor      supervisor Product-detail  \\\n",
       "0        A300        Apple         Julia    Peter Prince  search engine   \n",
       "1        A300        Apple         Julia    Peter Prince       Software   \n",
       "2        A300        Apple         Julia    Peter Prince        printer   \n",
       "3        A301       Google         Julia    Peter Prince  search engine   \n",
       "4        A302     Facebook      Mary Lim    Peter Prince  search engine   \n",
       "5        A304          HCL      Mary Lim    Peter Prince  search engine   \n",
       "6        A304          HCL      Mary Lim    Peter Prince       Software   \n",
       "7        A304          HCL         Jason    Peter Prince        printer   \n",
       "8        A305      ABC ltd         Jason    Peter Prince  search engine   \n",
       "9        A306          SAP      Isabella  David Anderson  search engine   \n",
       "10       A307        Adobe      Isabella  David Anderson  search engine   \n",
       "11       A308  XYZ company      Isabella  David Anderson        printer   \n",
       "12       A308  XYZ company      Isabella  David Anderson       Software   \n",
       "13       A309    Microsoft        Xavier  David Anderson        printer   \n",
       "14       A310       Oracle        Xavier  David Anderson  search engine   \n",
       "15       A311      Infosys        Xavier  David Anderson  search engine   \n",
       "16       A312      Infosys        Xavier  David Anderson        Monitor   \n",
       "\n",
       "    total-quantity  Price         Status  \n",
       "0                2  40000       Finished  \n",
       "1                2  20000       Finished  \n",
       "2                3   6000  yet to finish  \n",
       "3                2  45000       declined  \n",
       "4                3  54000            won  \n",
       "5                3  43000  yet to finish  \n",
       "6                2  12000       Finished  \n",
       "7                3   8000  yet to finish  \n",
       "8                2  25000       declined  \n",
       "9                3  75000            won  \n",
       "10               2  23000  yet to finish  \n",
       "11               2   3000  yet to finish  \n",
       "12               2   9000       Finished  \n",
       "13               4   5000            won  \n",
       "14               6  90000            won  \n",
       "15               3  69000       declined  \n",
       "16               3   4000       Finished  "
      ]
     },
     "execution_count": 3,
     "metadata": {},
     "output_type": "execute_result"
    }
   ],
   "source": [
    "# load the specific excel file and sheet name\n",
    "# pip install pyexcel\n",
    "df = pd.read_excel('assignment-data.xlsx', sheet_name='sales-data')\n",
    "df"
   ]
  },
  {
   "cell_type": "code",
   "execution_count": 109,
   "metadata": {},
   "outputs": [],
   "source": [
    "table_value = pd.pivot_table(df, values='Price', index=['supervisor', 'company-name'],\n",
    "                    columns=['Product-detail'], aggfunc=np.sum, fill_value=0)"
   ]
  },
  {
   "cell_type": "code",
   "execution_count": 110,
   "metadata": {},
   "outputs": [
    {
     "data": {
      "text/html": [
       "<div>\n",
       "<style scoped>\n",
       "    .dataframe tbody tr th:only-of-type {\n",
       "        vertical-align: middle;\n",
       "    }\n",
       "\n",
       "    .dataframe tbody tr th {\n",
       "        vertical-align: top;\n",
       "    }\n",
       "\n",
       "    .dataframe thead th {\n",
       "        text-align: right;\n",
       "    }\n",
       "</style>\n",
       "<table border=\"1\" class=\"dataframe\">\n",
       "  <thead>\n",
       "    <tr style=\"text-align: right;\">\n",
       "      <th></th>\n",
       "      <th>Product-detail</th>\n",
       "      <th>Monitor</th>\n",
       "      <th>Software</th>\n",
       "      <th>printer</th>\n",
       "      <th>search engine</th>\n",
       "    </tr>\n",
       "    <tr>\n",
       "      <th>supervisor</th>\n",
       "      <th>company-name</th>\n",
       "      <th></th>\n",
       "      <th></th>\n",
       "      <th></th>\n",
       "      <th></th>\n",
       "    </tr>\n",
       "  </thead>\n",
       "  <tbody>\n",
       "    <tr>\n",
       "      <th rowspan=\"6\" valign=\"top\">David Anderson</th>\n",
       "      <th>Adobe</th>\n",
       "      <td>0</td>\n",
       "      <td>0</td>\n",
       "      <td>0</td>\n",
       "      <td>23000</td>\n",
       "    </tr>\n",
       "    <tr>\n",
       "      <th>Infosys</th>\n",
       "      <td>4000</td>\n",
       "      <td>0</td>\n",
       "      <td>0</td>\n",
       "      <td>69000</td>\n",
       "    </tr>\n",
       "    <tr>\n",
       "      <th>Microsoft</th>\n",
       "      <td>0</td>\n",
       "      <td>0</td>\n",
       "      <td>5000</td>\n",
       "      <td>0</td>\n",
       "    </tr>\n",
       "    <tr>\n",
       "      <th>Oracle</th>\n",
       "      <td>0</td>\n",
       "      <td>0</td>\n",
       "      <td>0</td>\n",
       "      <td>90000</td>\n",
       "    </tr>\n",
       "    <tr>\n",
       "      <th>SAP</th>\n",
       "      <td>0</td>\n",
       "      <td>0</td>\n",
       "      <td>0</td>\n",
       "      <td>75000</td>\n",
       "    </tr>\n",
       "    <tr>\n",
       "      <th>XYZ company</th>\n",
       "      <td>0</td>\n",
       "      <td>9000</td>\n",
       "      <td>3000</td>\n",
       "      <td>0</td>\n",
       "    </tr>\n",
       "    <tr>\n",
       "      <th rowspan=\"5\" valign=\"top\">Peter Prince</th>\n",
       "      <th>ABC ltd</th>\n",
       "      <td>0</td>\n",
       "      <td>0</td>\n",
       "      <td>0</td>\n",
       "      <td>25000</td>\n",
       "    </tr>\n",
       "    <tr>\n",
       "      <th>Apple</th>\n",
       "      <td>0</td>\n",
       "      <td>20000</td>\n",
       "      <td>6000</td>\n",
       "      <td>40000</td>\n",
       "    </tr>\n",
       "    <tr>\n",
       "      <th>Facebook</th>\n",
       "      <td>0</td>\n",
       "      <td>0</td>\n",
       "      <td>0</td>\n",
       "      <td>54000</td>\n",
       "    </tr>\n",
       "    <tr>\n",
       "      <th>Google</th>\n",
       "      <td>0</td>\n",
       "      <td>0</td>\n",
       "      <td>0</td>\n",
       "      <td>45000</td>\n",
       "    </tr>\n",
       "    <tr>\n",
       "      <th>HCL</th>\n",
       "      <td>0</td>\n",
       "      <td>12000</td>\n",
       "      <td>8000</td>\n",
       "      <td>43000</td>\n",
       "    </tr>\n",
       "  </tbody>\n",
       "</table>\n",
       "</div>"
      ],
      "text/plain": [
       "Product-detail               Monitor  Software  printer  search engine\n",
       "supervisor     company-name                                           \n",
       "David Anderson Adobe               0         0        0          23000\n",
       "               Infosys          4000         0        0          69000\n",
       "               Microsoft           0         0     5000              0\n",
       "               Oracle              0         0        0          90000\n",
       "               SAP                 0         0        0          75000\n",
       "               XYZ company         0      9000     3000              0\n",
       "Peter Prince   ABC ltd             0         0        0          25000\n",
       "               Apple               0     20000     6000          40000\n",
       "               Facebook            0         0        0          54000\n",
       "               Google              0         0        0          45000\n",
       "               HCL                 0     12000     8000          43000"
      ]
     },
     "execution_count": 110,
     "metadata": {},
     "output_type": "execute_result"
    }
   ],
   "source": [
    "table_value"
   ]
  },
  {
   "cell_type": "markdown",
   "metadata": {},
   "source": [
    "# Part 2:\n",
    "Mr.Bean decided to show the top 5companies that have the most 'total-quantity'\n",
    "ordered."
   ]
  },
  {
   "cell_type": "code",
   "execution_count": 111,
   "metadata": {},
   "outputs": [
    {
     "data": {
      "text/html": [
       "<div>\n",
       "<style scoped>\n",
       "    .dataframe tbody tr th:only-of-type {\n",
       "        vertical-align: middle;\n",
       "    }\n",
       "\n",
       "    .dataframe tbody tr th {\n",
       "        vertical-align: top;\n",
       "    }\n",
       "\n",
       "    .dataframe thead th {\n",
       "        text-align: right;\n",
       "    }\n",
       "</style>\n",
       "<table border=\"1\" class=\"dataframe\">\n",
       "  <thead>\n",
       "    <tr style=\"text-align: right;\">\n",
       "      <th></th>\n",
       "      <th>company-name</th>\n",
       "      <th>total-quantity</th>\n",
       "    </tr>\n",
       "  </thead>\n",
       "  <tbody>\n",
       "    <tr>\n",
       "      <th>0</th>\n",
       "      <td>HCL</td>\n",
       "      <td>8</td>\n",
       "    </tr>\n",
       "    <tr>\n",
       "      <th>1</th>\n",
       "      <td>Apple</td>\n",
       "      <td>7</td>\n",
       "    </tr>\n",
       "    <tr>\n",
       "      <th>2</th>\n",
       "      <td>Infosys</td>\n",
       "      <td>6</td>\n",
       "    </tr>\n",
       "    <tr>\n",
       "      <th>3</th>\n",
       "      <td>Oracle</td>\n",
       "      <td>6</td>\n",
       "    </tr>\n",
       "    <tr>\n",
       "      <th>4</th>\n",
       "      <td>Microsoft</td>\n",
       "      <td>4</td>\n",
       "    </tr>\n",
       "  </tbody>\n",
       "</table>\n",
       "</div>"
      ],
      "text/plain": [
       "  company-name  total-quantity\n",
       "0          HCL               8\n",
       "1        Apple               7\n",
       "2      Infosys               6\n",
       "3       Oracle               6\n",
       "4    Microsoft               4"
      ]
     },
     "execution_count": 111,
     "metadata": {},
     "output_type": "execute_result"
    }
   ],
   "source": [
    "count_item=df.groupby('company-name').sum().sort_values('total-quantity', ascending=False).reset_index()\n",
    "count_item.iloc[0:5, 0:2]"
   ]
  },
  {
   "cell_type": "markdown",
   "metadata": {},
   "source": [
    "# Part 3:\n",
    "Further, “Mr.Bean” needs to show the total-quantity vs Price for 3 companies\n",
    "Apple, HCL and Infosys"
   ]
  },
  {
   "cell_type": "code",
   "execution_count": 122,
   "metadata": {
    "scrolled": true
   },
   "outputs": [
    {
     "data": {
      "text/html": [
       "<div>\n",
       "<style scoped>\n",
       "    .dataframe tbody tr th:only-of-type {\n",
       "        vertical-align: middle;\n",
       "    }\n",
       "\n",
       "    .dataframe tbody tr th {\n",
       "        vertical-align: top;\n",
       "    }\n",
       "\n",
       "    .dataframe thead th {\n",
       "        text-align: right;\n",
       "    }\n",
       "</style>\n",
       "<table border=\"1\" class=\"dataframe\">\n",
       "  <thead>\n",
       "    <tr style=\"text-align: right;\">\n",
       "      <th></th>\n",
       "      <th>Account-no</th>\n",
       "      <th>company-name</th>\n",
       "      <th>co-supervisor</th>\n",
       "      <th>supervisor</th>\n",
       "      <th>Product-detail</th>\n",
       "      <th>total-quantity</th>\n",
       "      <th>Price</th>\n",
       "      <th>Status</th>\n",
       "    </tr>\n",
       "  </thead>\n",
       "  <tbody>\n",
       "    <tr>\n",
       "      <th>1</th>\n",
       "      <td>A300</td>\n",
       "      <td>Apple</td>\n",
       "      <td>Julia</td>\n",
       "      <td>Peter Prince</td>\n",
       "      <td>Software</td>\n",
       "      <td>2</td>\n",
       "      <td>20000</td>\n",
       "      <td>Finished</td>\n",
       "    </tr>\n",
       "    <tr>\n",
       "      <th>0</th>\n",
       "      <td>A300</td>\n",
       "      <td>Apple</td>\n",
       "      <td>Julia</td>\n",
       "      <td>Peter Prince</td>\n",
       "      <td>search engine</td>\n",
       "      <td>2</td>\n",
       "      <td>40000</td>\n",
       "      <td>Finished</td>\n",
       "    </tr>\n",
       "    <tr>\n",
       "      <th>2</th>\n",
       "      <td>A300</td>\n",
       "      <td>Apple</td>\n",
       "      <td>Julia</td>\n",
       "      <td>Peter Prince</td>\n",
       "      <td>printer</td>\n",
       "      <td>3</td>\n",
       "      <td>6000</td>\n",
       "      <td>yet to finish</td>\n",
       "    </tr>\n",
       "  </tbody>\n",
       "</table>\n",
       "</div>"
      ],
      "text/plain": [
       "  Account-no company-name co-supervisor    supervisor Product-detail  \\\n",
       "1       A300        Apple         Julia  Peter Prince       Software   \n",
       "0       A300        Apple         Julia  Peter Prince  search engine   \n",
       "2       A300        Apple         Julia  Peter Prince        printer   \n",
       "\n",
       "   total-quantity  Price         Status  \n",
       "1               2  20000       Finished  \n",
       "0               2  40000       Finished  \n",
       "2               3   6000  yet to finish  "
      ]
     },
     "execution_count": 122,
     "metadata": {},
     "output_type": "execute_result"
    }
   ],
   "source": [
    "res =df.sort_values(by=['total-quantity', 'Price'])\n",
    "apple = res[res['company-name'] == \"Apple\"]\n",
    "apple"
   ]
  },
  {
   "cell_type": "code",
   "execution_count": 123,
   "metadata": {
    "scrolled": true
   },
   "outputs": [
    {
     "data": {
      "text/html": [
       "<div>\n",
       "<style scoped>\n",
       "    .dataframe tbody tr th:only-of-type {\n",
       "        vertical-align: middle;\n",
       "    }\n",
       "\n",
       "    .dataframe tbody tr th {\n",
       "        vertical-align: top;\n",
       "    }\n",
       "\n",
       "    .dataframe thead th {\n",
       "        text-align: right;\n",
       "    }\n",
       "</style>\n",
       "<table border=\"1\" class=\"dataframe\">\n",
       "  <thead>\n",
       "    <tr style=\"text-align: right;\">\n",
       "      <th></th>\n",
       "      <th>Account-no</th>\n",
       "      <th>company-name</th>\n",
       "      <th>co-supervisor</th>\n",
       "      <th>supervisor</th>\n",
       "      <th>Product-detail</th>\n",
       "      <th>total-quantity</th>\n",
       "      <th>Price</th>\n",
       "      <th>Status</th>\n",
       "    </tr>\n",
       "  </thead>\n",
       "  <tbody>\n",
       "    <tr>\n",
       "      <th>6</th>\n",
       "      <td>A304</td>\n",
       "      <td>HCL</td>\n",
       "      <td>Mary Lim</td>\n",
       "      <td>Peter Prince</td>\n",
       "      <td>Software</td>\n",
       "      <td>2</td>\n",
       "      <td>12000</td>\n",
       "      <td>Finished</td>\n",
       "    </tr>\n",
       "    <tr>\n",
       "      <th>7</th>\n",
       "      <td>A304</td>\n",
       "      <td>HCL</td>\n",
       "      <td>Jason</td>\n",
       "      <td>Peter Prince</td>\n",
       "      <td>printer</td>\n",
       "      <td>3</td>\n",
       "      <td>8000</td>\n",
       "      <td>yet to finish</td>\n",
       "    </tr>\n",
       "    <tr>\n",
       "      <th>5</th>\n",
       "      <td>A304</td>\n",
       "      <td>HCL</td>\n",
       "      <td>Mary Lim</td>\n",
       "      <td>Peter Prince</td>\n",
       "      <td>search engine</td>\n",
       "      <td>3</td>\n",
       "      <td>43000</td>\n",
       "      <td>yet to finish</td>\n",
       "    </tr>\n",
       "  </tbody>\n",
       "</table>\n",
       "</div>"
      ],
      "text/plain": [
       "  Account-no company-name co-supervisor    supervisor Product-detail  \\\n",
       "6       A304          HCL      Mary Lim  Peter Prince       Software   \n",
       "7       A304          HCL         Jason  Peter Prince        printer   \n",
       "5       A304          HCL      Mary Lim  Peter Prince  search engine   \n",
       "\n",
       "   total-quantity  Price         Status  \n",
       "6               2  12000       Finished  \n",
       "7               3   8000  yet to finish  \n",
       "5               3  43000  yet to finish  "
      ]
     },
     "execution_count": 123,
     "metadata": {},
     "output_type": "execute_result"
    }
   ],
   "source": [
    "hcl = res[res['company-name'] == \"HCL\"]\n",
    "hcl"
   ]
  },
  {
   "cell_type": "code",
   "execution_count": 124,
   "metadata": {},
   "outputs": [
    {
     "data": {
      "text/html": [
       "<div>\n",
       "<style scoped>\n",
       "    .dataframe tbody tr th:only-of-type {\n",
       "        vertical-align: middle;\n",
       "    }\n",
       "\n",
       "    .dataframe tbody tr th {\n",
       "        vertical-align: top;\n",
       "    }\n",
       "\n",
       "    .dataframe thead th {\n",
       "        text-align: right;\n",
       "    }\n",
       "</style>\n",
       "<table border=\"1\" class=\"dataframe\">\n",
       "  <thead>\n",
       "    <tr style=\"text-align: right;\">\n",
       "      <th></th>\n",
       "      <th>Account-no</th>\n",
       "      <th>company-name</th>\n",
       "      <th>co-supervisor</th>\n",
       "      <th>supervisor</th>\n",
       "      <th>Product-detail</th>\n",
       "      <th>total-quantity</th>\n",
       "      <th>Price</th>\n",
       "      <th>Status</th>\n",
       "    </tr>\n",
       "  </thead>\n",
       "  <tbody>\n",
       "    <tr>\n",
       "      <th>16</th>\n",
       "      <td>A312</td>\n",
       "      <td>Infosys</td>\n",
       "      <td>Xavier</td>\n",
       "      <td>David Anderson</td>\n",
       "      <td>Monitor</td>\n",
       "      <td>3</td>\n",
       "      <td>4000</td>\n",
       "      <td>Finished</td>\n",
       "    </tr>\n",
       "    <tr>\n",
       "      <th>15</th>\n",
       "      <td>A311</td>\n",
       "      <td>Infosys</td>\n",
       "      <td>Xavier</td>\n",
       "      <td>David Anderson</td>\n",
       "      <td>search engine</td>\n",
       "      <td>3</td>\n",
       "      <td>69000</td>\n",
       "      <td>declined</td>\n",
       "    </tr>\n",
       "  </tbody>\n",
       "</table>\n",
       "</div>"
      ],
      "text/plain": [
       "   Account-no company-name co-supervisor      supervisor Product-detail  \\\n",
       "16       A312      Infosys        Xavier  David Anderson        Monitor   \n",
       "15       A311      Infosys        Xavier  David Anderson  search engine   \n",
       "\n",
       "    total-quantity  Price    Status  \n",
       "16               3   4000  Finished  \n",
       "15               3  69000  declined  "
      ]
     },
     "execution_count": 124,
     "metadata": {},
     "output_type": "execute_result"
    }
   ],
   "source": [
    "infosys = res[res['company-name'] == \"Infosys\"]\n",
    "infosys"
   ]
  },
  {
   "cell_type": "markdown",
   "metadata": {},
   "source": [
    "# 1"
   ]
  },
  {
   "cell_type": "code",
   "execution_count": 114,
   "metadata": {
    "scrolled": true
   },
   "outputs": [
    {
     "name": "stdout",
     "output_type": "stream",
     "text": [
      "Creating 8X4 array using numpy.arrange\n",
      "[[20 21 22 23]\n",
      " [24 25 26 27]\n",
      " [28 29 30 31]\n",
      " [32 33 34 35]\n",
      " [36 37 38 39]\n",
      " [40 41 42 43]\n",
      " [44 45 46 47]\n",
      " [48 49 50 51]]\n"
     ]
    }
   ],
   "source": [
    "print(\"Creating 8X4 array using numpy.arrange\")\n",
    "sampleArray = np.arange(20,52,1)\n",
    "sampleArray = sampleArray.reshape(8,4)\n",
    "print(sampleArray)"
   ]
  },
  {
   "cell_type": "code",
   "execution_count": 119,
   "metadata": {},
   "outputs": [
    {
     "data": {
      "text/plain": [
       "array([ 3, 24, 54, 67, 89, 10,  2,  5, 12])"
      ]
     },
     "execution_count": 119,
     "metadata": {},
     "output_type": "execute_result"
    }
   ],
   "source": [
    "value = [24, 54, 67, 89, 10, 2, 5, 12]\n",
    "np.insert(value, 0, 3)"
   ]
  },
  {
   "cell_type": "markdown",
   "metadata": {},
   "source": [
    "# 2"
   ]
  },
  {
   "cell_type": "code",
   "execution_count": 121,
   "metadata": {},
   "outputs": [
    {
     "data": {
      "text/plain": [
       "array([[[4.47213595, 4.58257569, 4.69041576, 4.79583152],\n",
       "        [4.89897949, 5.        , 5.09901951, 5.19615242],\n",
       "        [5.29150262, 5.38516481, 5.47722558, 5.56776436],\n",
       "        [5.65685425, 5.74456265, 5.83095189, 5.91607978],\n",
       "        [6.        , 6.08276253, 6.164414  , 6.244998  ],\n",
       "        [6.32455532, 6.40312424, 6.4807407 , 6.55743852],\n",
       "        [6.63324958, 6.70820393, 6.78232998, 6.8556546 ],\n",
       "        [6.92820323, 7.        , 7.07106781, 7.14142843]]])"
      ]
     },
     "execution_count": 121,
     "metadata": {},
     "output_type": "execute_result"
    }
   ],
   "source": [
    "square = np.sqrt([sampleArray])\n",
    "square"
   ]
  },
  {
   "cell_type": "markdown",
   "metadata": {},
   "source": [
    "# 3"
   ]
  },
  {
   "cell_type": "code",
   "execution_count": 125,
   "metadata": {},
   "outputs": [
    {
     "data": {
      "text/plain": [
       "[array([[20, 21, 22, 23],\n",
       "        [24, 25, 26, 27]]),\n",
       " array([[28, 29, 30, 31],\n",
       "        [32, 33, 34, 35]]),\n",
       " array([[36, 37, 38, 39],\n",
       "        [40, 41, 42, 43]]),\n",
       " array([[44, 45, 46, 47],\n",
       "        [48, 49, 50, 51]])]"
      ]
     },
     "execution_count": 125,
     "metadata": {},
     "output_type": "execute_result"
    }
   ],
   "source": [
    "newarr = np.array_split(sampleArray, 4)\n",
    "newarr"
   ]
  },
  {
   "cell_type": "markdown",
   "metadata": {},
   "source": [
    "# 4"
   ]
  },
  {
   "cell_type": "code",
   "execution_count": 127,
   "metadata": {},
   "outputs": [
    {
     "data": {
      "text/plain": [
       "array([20, 21, 22, 24, 25, 26, 27, 28, 29, 30, 31, 32, 33, 34, 35, 36, 37,\n",
       "       38, 39, 40, 41, 42, 43, 44, 45, 46, 47, 48, 49, 50, 51])"
      ]
     },
     "execution_count": 127,
     "metadata": {},
     "output_type": "execute_result"
    }
   ],
   "source": [
    "arr = np.delete(sampleArray, 3)\n",
    "arr"
   ]
  },
  {
   "cell_type": "markdown",
   "metadata": {},
   "source": [
    "# 5"
   ]
  },
  {
   "cell_type": "code",
   "execution_count": 128,
   "metadata": {},
   "outputs": [
    {
     "data": {
      "text/plain": [
       "[20,\n",
       " 21,\n",
       " 22,\n",
       " 24,\n",
       " 25,\n",
       " 26,\n",
       " 27,\n",
       " 28,\n",
       " 29,\n",
       " 30,\n",
       " 31,\n",
       " 32,\n",
       " 33,\n",
       " 34,\n",
       " 35,\n",
       " 36,\n",
       " 37,\n",
       " 38,\n",
       " 39,\n",
       " 40,\n",
       " 41,\n",
       " 42,\n",
       " 43,\n",
       " 44,\n",
       " 45,\n",
       " 46,\n",
       " 47,\n",
       " 48,\n",
       " 49,\n",
       " 50,\n",
       " 51]"
      ]
     },
     "execution_count": 128,
     "metadata": {},
     "output_type": "execute_result"
    }
   ],
   "source": [
    "list(arr.flat)"
   ]
  },
  {
   "cell_type": "code",
   "execution_count": null,
   "metadata": {},
   "outputs": [],
   "source": []
  }
 ],
 "metadata": {
  "kernelspec": {
   "display_name": "Python 3",
   "language": "python",
   "name": "python3"
  },
  "language_info": {
   "codemirror_mode": {
    "name": "ipython",
    "version": 3
   },
   "file_extension": ".py",
   "mimetype": "text/x-python",
   "name": "python",
   "nbconvert_exporter": "python",
   "pygments_lexer": "ipython3",
   "version": "3.8.5"
  }
 },
 "nbformat": 4,
 "nbformat_minor": 4
}
