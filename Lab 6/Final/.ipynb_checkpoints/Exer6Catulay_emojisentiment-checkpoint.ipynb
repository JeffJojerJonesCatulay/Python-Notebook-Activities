{
 "cells": [
  {
   "cell_type": "markdown",
   "metadata": {},
   "source": [
    "# Jeff Jojer Jones E. Catulay\n",
    "BSCS 3B"
   ]
  },
  {
   "cell_type": "markdown",
   "metadata": {},
   "source": [
    "<h3> Data set Information </h3>\n",
    "\n",
    "1.\t1k_data_emoji_tweets_senti_posneg.xlsx –  Data set for Question-A\n",
    "2.\t15_emoticon_data.xlsx – This data set is just for your reference only\n",
    "\n",
    "<h3> Question & Other Relevant Information </h3>\n",
    "\n",
    "A.\tUse 1k_data_emoji_tweets_senti_posneg.xlsx file to find sentiment Analysis using any Machine Learning Algorithm of your choice. This file contains sentiment text as well as UTF-8 code for emojis. Refer the following site to have more ideas about UTF-8. (50 marks)\n",
    "\n",
    "https://www.utf8-chartable.de/unicode-utf8-table.pl?start=127808&utf8=char\n",
    "\n",
    "B.\tFurther, you can build a real-time tweet sentiment Analyzer. (50 Marks)\n",
    "\n",
    "Some ideas for this part: First make a definition with a simple sentence as a parameter: '😍 I love sentiment analysis 😊'. Now this sentence will use the classifier you have developed in Question-A, to identify the polarity.\n",
    "\n",
    "Further, develop a text box to take real time tweets, I,e sentences with emojis provided by user using key board to analyze the sentiments of the given sentences.\n"
   ]
  },
  {
   "cell_type": "markdown",
   "metadata": {},
   "source": [
    "<h2>Import Libraries</h2>"
   ]
  },
  {
   "cell_type": "code",
   "execution_count": 1,
   "metadata": {},
   "outputs": [],
   "source": [
    "# import libraries\n",
    "# for dataset\n",
    "# pip install pandas\n",
    "import pandas as pd, numpy as np\n",
    "\n",
    "import matplotlib.pyplot as plt\n",
    "\n",
    "# for vectorizing, creating model, splitting dataset, measuring accuracy\n",
    "# pip install -U scikit-learn\n",
    "from sklearn.feature_extraction.text import TfidfVectorizer\n",
    "from sklearn.model_selection import train_test_split\n",
    "from sklearn.svm import LinearSVC\n",
    "from sklearn.metrics import classification_report\n",
    "\n",
    "# for setting up parameters\n",
    "# pip install pycaret\n",
    "from pycaret.regression import *\n",
    "\n",
    "# for user interface\n",
    "# pip install ipywidgets\n",
    "# pip install tk\n",
    "import ipywidgets as widgets\n",
    "import tkinter as tk"
   ]
  },
  {
   "cell_type": "markdown",
   "metadata": {},
   "source": [
    "<h2>Load Dataset</h2>"
   ]
  },
  {
   "cell_type": "code",
   "execution_count": 2,
   "metadata": {},
   "outputs": [
    {
     "data": {
      "text/html": [
       "<div>\n",
       "<style scoped>\n",
       "    .dataframe tbody tr th:only-of-type {\n",
       "        vertical-align: middle;\n",
       "    }\n",
       "\n",
       "    .dataframe tbody tr th {\n",
       "        vertical-align: top;\n",
       "    }\n",
       "\n",
       "    .dataframe thead th {\n",
       "        text-align: right;\n",
       "    }\n",
       "</style>\n",
       "<table border=\"1\" class=\"dataframe\">\n",
       "  <thead>\n",
       "    <tr style=\"text-align: right;\">\n",
       "      <th></th>\n",
       "      <th>sentiment</th>\n",
       "      <th>post</th>\n",
       "    </tr>\n",
       "  </thead>\n",
       "  <tbody>\n",
       "    <tr>\n",
       "      <th>0</th>\n",
       "      <td>1</td>\n",
       "      <td>Good morning every one</td>\n",
       "    </tr>\n",
       "    <tr>\n",
       "      <th>1</th>\n",
       "      <td>0</td>\n",
       "      <td>TW: S AssaultActually horrified how many frien...</td>\n",
       "    </tr>\n",
       "    <tr>\n",
       "      <th>2</th>\n",
       "      <td>1</td>\n",
       "      <td>Thanks by has notice of me Greetings : Jossett...</td>\n",
       "    </tr>\n",
       "    <tr>\n",
       "      <th>3</th>\n",
       "      <td>0</td>\n",
       "      <td>its ending soon aah unhappy 😧</td>\n",
       "    </tr>\n",
       "    <tr>\n",
       "      <th>4</th>\n",
       "      <td>1</td>\n",
       "      <td>My real time happy 😊</td>\n",
       "    </tr>\n",
       "  </tbody>\n",
       "</table>\n",
       "</div>"
      ],
      "text/plain": [
       "   sentiment                                               post\n",
       "0          1                             Good morning every one\n",
       "1          0  TW: S AssaultActually horrified how many frien...\n",
       "2          1  Thanks by has notice of me Greetings : Jossett...\n",
       "3          0                      its ending soon aah unhappy 😧\n",
       "4          1                               My real time happy 😊"
      ]
     },
     "execution_count": 2,
     "metadata": {},
     "output_type": "execute_result"
    }
   ],
   "source": [
    "# load the dataset\n",
    "df = pd.read_csv(\"1k_data_emoji_tweets_senti_posneg.csv\")\n",
    "df = df.drop(df.columns[0], axis=1)\n",
    "df.head()"
   ]
  },
  {
   "cell_type": "markdown",
   "metadata": {},
   "source": [
    "<h2>Dataset Cleaning, Checking and Analyzing</h2>"
   ]
  },
  {
   "cell_type": "code",
   "execution_count": 3,
   "metadata": {
    "scrolled": true
   },
   "outputs": [
    {
     "data": {
      "text/html": [
       "<style  type=\"text/css\" >\n",
       "</style><table id=\"T_18f85677_c4fe_11eb_a59b_80c5f26d1520\" ><thead>    <tr>        <th class=\"blank level0\" ></th>        <th class=\"col_heading level0 col0\" >Description</th>        <th class=\"col_heading level0 col1\" >Value</th>    </tr></thead><tbody>\n",
       "                <tr>\n",
       "                        <th id=\"T_18f85677_c4fe_11eb_a59b_80c5f26d1520level0_row0\" class=\"row_heading level0 row0\" >0</th>\n",
       "                        <td id=\"T_18f85677_c4fe_11eb_a59b_80c5f26d1520row0_col0\" class=\"data row0 col0\" >session_id</td>\n",
       "                        <td id=\"T_18f85677_c4fe_11eb_a59b_80c5f26d1520row0_col1\" class=\"data row0 col1\" >260</td>\n",
       "            </tr>\n",
       "            <tr>\n",
       "                        <th id=\"T_18f85677_c4fe_11eb_a59b_80c5f26d1520level0_row1\" class=\"row_heading level0 row1\" >1</th>\n",
       "                        <td id=\"T_18f85677_c4fe_11eb_a59b_80c5f26d1520row1_col0\" class=\"data row1 col0\" >Target</td>\n",
       "                        <td id=\"T_18f85677_c4fe_11eb_a59b_80c5f26d1520row1_col1\" class=\"data row1 col1\" >sentiment</td>\n",
       "            </tr>\n",
       "            <tr>\n",
       "                        <th id=\"T_18f85677_c4fe_11eb_a59b_80c5f26d1520level0_row2\" class=\"row_heading level0 row2\" >2</th>\n",
       "                        <td id=\"T_18f85677_c4fe_11eb_a59b_80c5f26d1520row2_col0\" class=\"data row2 col0\" >Original Data</td>\n",
       "                        <td id=\"T_18f85677_c4fe_11eb_a59b_80c5f26d1520row2_col1\" class=\"data row2 col1\" >(1000, 2)</td>\n",
       "            </tr>\n",
       "            <tr>\n",
       "                        <th id=\"T_18f85677_c4fe_11eb_a59b_80c5f26d1520level0_row3\" class=\"row_heading level0 row3\" >3</th>\n",
       "                        <td id=\"T_18f85677_c4fe_11eb_a59b_80c5f26d1520row3_col0\" class=\"data row3 col0\" >Missing Values</td>\n",
       "                        <td id=\"T_18f85677_c4fe_11eb_a59b_80c5f26d1520row3_col1\" class=\"data row3 col1\" >False</td>\n",
       "            </tr>\n",
       "            <tr>\n",
       "                        <th id=\"T_18f85677_c4fe_11eb_a59b_80c5f26d1520level0_row4\" class=\"row_heading level0 row4\" >4</th>\n",
       "                        <td id=\"T_18f85677_c4fe_11eb_a59b_80c5f26d1520row4_col0\" class=\"data row4 col0\" >Numeric Features</td>\n",
       "                        <td id=\"T_18f85677_c4fe_11eb_a59b_80c5f26d1520row4_col1\" class=\"data row4 col1\" >0</td>\n",
       "            </tr>\n",
       "            <tr>\n",
       "                        <th id=\"T_18f85677_c4fe_11eb_a59b_80c5f26d1520level0_row5\" class=\"row_heading level0 row5\" >5</th>\n",
       "                        <td id=\"T_18f85677_c4fe_11eb_a59b_80c5f26d1520row5_col0\" class=\"data row5 col0\" >Categorical Features</td>\n",
       "                        <td id=\"T_18f85677_c4fe_11eb_a59b_80c5f26d1520row5_col1\" class=\"data row5 col1\" >1</td>\n",
       "            </tr>\n",
       "            <tr>\n",
       "                        <th id=\"T_18f85677_c4fe_11eb_a59b_80c5f26d1520level0_row6\" class=\"row_heading level0 row6\" >6</th>\n",
       "                        <td id=\"T_18f85677_c4fe_11eb_a59b_80c5f26d1520row6_col0\" class=\"data row6 col0\" >Ordinal Features</td>\n",
       "                        <td id=\"T_18f85677_c4fe_11eb_a59b_80c5f26d1520row6_col1\" class=\"data row6 col1\" >False</td>\n",
       "            </tr>\n",
       "            <tr>\n",
       "                        <th id=\"T_18f85677_c4fe_11eb_a59b_80c5f26d1520level0_row7\" class=\"row_heading level0 row7\" >7</th>\n",
       "                        <td id=\"T_18f85677_c4fe_11eb_a59b_80c5f26d1520row7_col0\" class=\"data row7 col0\" >High Cardinality Features</td>\n",
       "                        <td id=\"T_18f85677_c4fe_11eb_a59b_80c5f26d1520row7_col1\" class=\"data row7 col1\" >False</td>\n",
       "            </tr>\n",
       "            <tr>\n",
       "                        <th id=\"T_18f85677_c4fe_11eb_a59b_80c5f26d1520level0_row8\" class=\"row_heading level0 row8\" >8</th>\n",
       "                        <td id=\"T_18f85677_c4fe_11eb_a59b_80c5f26d1520row8_col0\" class=\"data row8 col0\" >High Cardinality Method</td>\n",
       "                        <td id=\"T_18f85677_c4fe_11eb_a59b_80c5f26d1520row8_col1\" class=\"data row8 col1\" >None</td>\n",
       "            </tr>\n",
       "            <tr>\n",
       "                        <th id=\"T_18f85677_c4fe_11eb_a59b_80c5f26d1520level0_row9\" class=\"row_heading level0 row9\" >9</th>\n",
       "                        <td id=\"T_18f85677_c4fe_11eb_a59b_80c5f26d1520row9_col0\" class=\"data row9 col0\" >Transformed Train Set</td>\n",
       "                        <td id=\"T_18f85677_c4fe_11eb_a59b_80c5f26d1520row9_col1\" class=\"data row9 col1\" >(699, 699)</td>\n",
       "            </tr>\n",
       "            <tr>\n",
       "                        <th id=\"T_18f85677_c4fe_11eb_a59b_80c5f26d1520level0_row10\" class=\"row_heading level0 row10\" >10</th>\n",
       "                        <td id=\"T_18f85677_c4fe_11eb_a59b_80c5f26d1520row10_col0\" class=\"data row10 col0\" >Transformed Test Set</td>\n",
       "                        <td id=\"T_18f85677_c4fe_11eb_a59b_80c5f26d1520row10_col1\" class=\"data row10 col1\" >(301, 699)</td>\n",
       "            </tr>\n",
       "            <tr>\n",
       "                        <th id=\"T_18f85677_c4fe_11eb_a59b_80c5f26d1520level0_row11\" class=\"row_heading level0 row11\" >11</th>\n",
       "                        <td id=\"T_18f85677_c4fe_11eb_a59b_80c5f26d1520row11_col0\" class=\"data row11 col0\" >Shuffle Train-Test</td>\n",
       "                        <td id=\"T_18f85677_c4fe_11eb_a59b_80c5f26d1520row11_col1\" class=\"data row11 col1\" >True</td>\n",
       "            </tr>\n",
       "            <tr>\n",
       "                        <th id=\"T_18f85677_c4fe_11eb_a59b_80c5f26d1520level0_row12\" class=\"row_heading level0 row12\" >12</th>\n",
       "                        <td id=\"T_18f85677_c4fe_11eb_a59b_80c5f26d1520row12_col0\" class=\"data row12 col0\" >Stratify Train-Test</td>\n",
       "                        <td id=\"T_18f85677_c4fe_11eb_a59b_80c5f26d1520row12_col1\" class=\"data row12 col1\" >False</td>\n",
       "            </tr>\n",
       "            <tr>\n",
       "                        <th id=\"T_18f85677_c4fe_11eb_a59b_80c5f26d1520level0_row13\" class=\"row_heading level0 row13\" >13</th>\n",
       "                        <td id=\"T_18f85677_c4fe_11eb_a59b_80c5f26d1520row13_col0\" class=\"data row13 col0\" >Fold Generator</td>\n",
       "                        <td id=\"T_18f85677_c4fe_11eb_a59b_80c5f26d1520row13_col1\" class=\"data row13 col1\" >KFold</td>\n",
       "            </tr>\n",
       "            <tr>\n",
       "                        <th id=\"T_18f85677_c4fe_11eb_a59b_80c5f26d1520level0_row14\" class=\"row_heading level0 row14\" >14</th>\n",
       "                        <td id=\"T_18f85677_c4fe_11eb_a59b_80c5f26d1520row14_col0\" class=\"data row14 col0\" >Fold Number</td>\n",
       "                        <td id=\"T_18f85677_c4fe_11eb_a59b_80c5f26d1520row14_col1\" class=\"data row14 col1\" >10</td>\n",
       "            </tr>\n",
       "            <tr>\n",
       "                        <th id=\"T_18f85677_c4fe_11eb_a59b_80c5f26d1520level0_row15\" class=\"row_heading level0 row15\" >15</th>\n",
       "                        <td id=\"T_18f85677_c4fe_11eb_a59b_80c5f26d1520row15_col0\" class=\"data row15 col0\" >CPU Jobs</td>\n",
       "                        <td id=\"T_18f85677_c4fe_11eb_a59b_80c5f26d1520row15_col1\" class=\"data row15 col1\" >-1</td>\n",
       "            </tr>\n",
       "            <tr>\n",
       "                        <th id=\"T_18f85677_c4fe_11eb_a59b_80c5f26d1520level0_row16\" class=\"row_heading level0 row16\" >16</th>\n",
       "                        <td id=\"T_18f85677_c4fe_11eb_a59b_80c5f26d1520row16_col0\" class=\"data row16 col0\" >Use GPU</td>\n",
       "                        <td id=\"T_18f85677_c4fe_11eb_a59b_80c5f26d1520row16_col1\" class=\"data row16 col1\" >False</td>\n",
       "            </tr>\n",
       "            <tr>\n",
       "                        <th id=\"T_18f85677_c4fe_11eb_a59b_80c5f26d1520level0_row17\" class=\"row_heading level0 row17\" >17</th>\n",
       "                        <td id=\"T_18f85677_c4fe_11eb_a59b_80c5f26d1520row17_col0\" class=\"data row17 col0\" >Log Experiment</td>\n",
       "                        <td id=\"T_18f85677_c4fe_11eb_a59b_80c5f26d1520row17_col1\" class=\"data row17 col1\" >False</td>\n",
       "            </tr>\n",
       "            <tr>\n",
       "                        <th id=\"T_18f85677_c4fe_11eb_a59b_80c5f26d1520level0_row18\" class=\"row_heading level0 row18\" >18</th>\n",
       "                        <td id=\"T_18f85677_c4fe_11eb_a59b_80c5f26d1520row18_col0\" class=\"data row18 col0\" >Experiment Name</td>\n",
       "                        <td id=\"T_18f85677_c4fe_11eb_a59b_80c5f26d1520row18_col1\" class=\"data row18 col1\" >reg-default-name</td>\n",
       "            </tr>\n",
       "            <tr>\n",
       "                        <th id=\"T_18f85677_c4fe_11eb_a59b_80c5f26d1520level0_row19\" class=\"row_heading level0 row19\" >19</th>\n",
       "                        <td id=\"T_18f85677_c4fe_11eb_a59b_80c5f26d1520row19_col0\" class=\"data row19 col0\" >USI</td>\n",
       "                        <td id=\"T_18f85677_c4fe_11eb_a59b_80c5f26d1520row19_col1\" class=\"data row19 col1\" >db03</td>\n",
       "            </tr>\n",
       "            <tr>\n",
       "                        <th id=\"T_18f85677_c4fe_11eb_a59b_80c5f26d1520level0_row20\" class=\"row_heading level0 row20\" >20</th>\n",
       "                        <td id=\"T_18f85677_c4fe_11eb_a59b_80c5f26d1520row20_col0\" class=\"data row20 col0\" >Imputation Type</td>\n",
       "                        <td id=\"T_18f85677_c4fe_11eb_a59b_80c5f26d1520row20_col1\" class=\"data row20 col1\" >simple</td>\n",
       "            </tr>\n",
       "            <tr>\n",
       "                        <th id=\"T_18f85677_c4fe_11eb_a59b_80c5f26d1520level0_row21\" class=\"row_heading level0 row21\" >21</th>\n",
       "                        <td id=\"T_18f85677_c4fe_11eb_a59b_80c5f26d1520row21_col0\" class=\"data row21 col0\" >Iterative Imputation Iteration</td>\n",
       "                        <td id=\"T_18f85677_c4fe_11eb_a59b_80c5f26d1520row21_col1\" class=\"data row21 col1\" >None</td>\n",
       "            </tr>\n",
       "            <tr>\n",
       "                        <th id=\"T_18f85677_c4fe_11eb_a59b_80c5f26d1520level0_row22\" class=\"row_heading level0 row22\" >22</th>\n",
       "                        <td id=\"T_18f85677_c4fe_11eb_a59b_80c5f26d1520row22_col0\" class=\"data row22 col0\" >Numeric Imputer</td>\n",
       "                        <td id=\"T_18f85677_c4fe_11eb_a59b_80c5f26d1520row22_col1\" class=\"data row22 col1\" >mean</td>\n",
       "            </tr>\n",
       "            <tr>\n",
       "                        <th id=\"T_18f85677_c4fe_11eb_a59b_80c5f26d1520level0_row23\" class=\"row_heading level0 row23\" >23</th>\n",
       "                        <td id=\"T_18f85677_c4fe_11eb_a59b_80c5f26d1520row23_col0\" class=\"data row23 col0\" >Iterative Imputation Numeric Model</td>\n",
       "                        <td id=\"T_18f85677_c4fe_11eb_a59b_80c5f26d1520row23_col1\" class=\"data row23 col1\" >None</td>\n",
       "            </tr>\n",
       "            <tr>\n",
       "                        <th id=\"T_18f85677_c4fe_11eb_a59b_80c5f26d1520level0_row24\" class=\"row_heading level0 row24\" >24</th>\n",
       "                        <td id=\"T_18f85677_c4fe_11eb_a59b_80c5f26d1520row24_col0\" class=\"data row24 col0\" >Categorical Imputer</td>\n",
       "                        <td id=\"T_18f85677_c4fe_11eb_a59b_80c5f26d1520row24_col1\" class=\"data row24 col1\" >constant</td>\n",
       "            </tr>\n",
       "            <tr>\n",
       "                        <th id=\"T_18f85677_c4fe_11eb_a59b_80c5f26d1520level0_row25\" class=\"row_heading level0 row25\" >25</th>\n",
       "                        <td id=\"T_18f85677_c4fe_11eb_a59b_80c5f26d1520row25_col0\" class=\"data row25 col0\" >Iterative Imputation Categorical Model</td>\n",
       "                        <td id=\"T_18f85677_c4fe_11eb_a59b_80c5f26d1520row25_col1\" class=\"data row25 col1\" >None</td>\n",
       "            </tr>\n",
       "            <tr>\n",
       "                        <th id=\"T_18f85677_c4fe_11eb_a59b_80c5f26d1520level0_row26\" class=\"row_heading level0 row26\" >26</th>\n",
       "                        <td id=\"T_18f85677_c4fe_11eb_a59b_80c5f26d1520row26_col0\" class=\"data row26 col0\" >Unknown Categoricals Handling</td>\n",
       "                        <td id=\"T_18f85677_c4fe_11eb_a59b_80c5f26d1520row26_col1\" class=\"data row26 col1\" >least_frequent</td>\n",
       "            </tr>\n",
       "            <tr>\n",
       "                        <th id=\"T_18f85677_c4fe_11eb_a59b_80c5f26d1520level0_row27\" class=\"row_heading level0 row27\" >27</th>\n",
       "                        <td id=\"T_18f85677_c4fe_11eb_a59b_80c5f26d1520row27_col0\" class=\"data row27 col0\" >Normalize</td>\n",
       "                        <td id=\"T_18f85677_c4fe_11eb_a59b_80c5f26d1520row27_col1\" class=\"data row27 col1\" >False</td>\n",
       "            </tr>\n",
       "            <tr>\n",
       "                        <th id=\"T_18f85677_c4fe_11eb_a59b_80c5f26d1520level0_row28\" class=\"row_heading level0 row28\" >28</th>\n",
       "                        <td id=\"T_18f85677_c4fe_11eb_a59b_80c5f26d1520row28_col0\" class=\"data row28 col0\" >Normalize Method</td>\n",
       "                        <td id=\"T_18f85677_c4fe_11eb_a59b_80c5f26d1520row28_col1\" class=\"data row28 col1\" >None</td>\n",
       "            </tr>\n",
       "            <tr>\n",
       "                        <th id=\"T_18f85677_c4fe_11eb_a59b_80c5f26d1520level0_row29\" class=\"row_heading level0 row29\" >29</th>\n",
       "                        <td id=\"T_18f85677_c4fe_11eb_a59b_80c5f26d1520row29_col0\" class=\"data row29 col0\" >Transformation</td>\n",
       "                        <td id=\"T_18f85677_c4fe_11eb_a59b_80c5f26d1520row29_col1\" class=\"data row29 col1\" >False</td>\n",
       "            </tr>\n",
       "            <tr>\n",
       "                        <th id=\"T_18f85677_c4fe_11eb_a59b_80c5f26d1520level0_row30\" class=\"row_heading level0 row30\" >30</th>\n",
       "                        <td id=\"T_18f85677_c4fe_11eb_a59b_80c5f26d1520row30_col0\" class=\"data row30 col0\" >Transformation Method</td>\n",
       "                        <td id=\"T_18f85677_c4fe_11eb_a59b_80c5f26d1520row30_col1\" class=\"data row30 col1\" >None</td>\n",
       "            </tr>\n",
       "            <tr>\n",
       "                        <th id=\"T_18f85677_c4fe_11eb_a59b_80c5f26d1520level0_row31\" class=\"row_heading level0 row31\" >31</th>\n",
       "                        <td id=\"T_18f85677_c4fe_11eb_a59b_80c5f26d1520row31_col0\" class=\"data row31 col0\" >PCA</td>\n",
       "                        <td id=\"T_18f85677_c4fe_11eb_a59b_80c5f26d1520row31_col1\" class=\"data row31 col1\" >False</td>\n",
       "            </tr>\n",
       "            <tr>\n",
       "                        <th id=\"T_18f85677_c4fe_11eb_a59b_80c5f26d1520level0_row32\" class=\"row_heading level0 row32\" >32</th>\n",
       "                        <td id=\"T_18f85677_c4fe_11eb_a59b_80c5f26d1520row32_col0\" class=\"data row32 col0\" >PCA Method</td>\n",
       "                        <td id=\"T_18f85677_c4fe_11eb_a59b_80c5f26d1520row32_col1\" class=\"data row32 col1\" >None</td>\n",
       "            </tr>\n",
       "            <tr>\n",
       "                        <th id=\"T_18f85677_c4fe_11eb_a59b_80c5f26d1520level0_row33\" class=\"row_heading level0 row33\" >33</th>\n",
       "                        <td id=\"T_18f85677_c4fe_11eb_a59b_80c5f26d1520row33_col0\" class=\"data row33 col0\" >PCA Components</td>\n",
       "                        <td id=\"T_18f85677_c4fe_11eb_a59b_80c5f26d1520row33_col1\" class=\"data row33 col1\" >None</td>\n",
       "            </tr>\n",
       "            <tr>\n",
       "                        <th id=\"T_18f85677_c4fe_11eb_a59b_80c5f26d1520level0_row34\" class=\"row_heading level0 row34\" >34</th>\n",
       "                        <td id=\"T_18f85677_c4fe_11eb_a59b_80c5f26d1520row34_col0\" class=\"data row34 col0\" >Ignore Low Variance</td>\n",
       "                        <td id=\"T_18f85677_c4fe_11eb_a59b_80c5f26d1520row34_col1\" class=\"data row34 col1\" >False</td>\n",
       "            </tr>\n",
       "            <tr>\n",
       "                        <th id=\"T_18f85677_c4fe_11eb_a59b_80c5f26d1520level0_row35\" class=\"row_heading level0 row35\" >35</th>\n",
       "                        <td id=\"T_18f85677_c4fe_11eb_a59b_80c5f26d1520row35_col0\" class=\"data row35 col0\" >Combine Rare Levels</td>\n",
       "                        <td id=\"T_18f85677_c4fe_11eb_a59b_80c5f26d1520row35_col1\" class=\"data row35 col1\" >False</td>\n",
       "            </tr>\n",
       "            <tr>\n",
       "                        <th id=\"T_18f85677_c4fe_11eb_a59b_80c5f26d1520level0_row36\" class=\"row_heading level0 row36\" >36</th>\n",
       "                        <td id=\"T_18f85677_c4fe_11eb_a59b_80c5f26d1520row36_col0\" class=\"data row36 col0\" >Rare Level Threshold</td>\n",
       "                        <td id=\"T_18f85677_c4fe_11eb_a59b_80c5f26d1520row36_col1\" class=\"data row36 col1\" >None</td>\n",
       "            </tr>\n",
       "            <tr>\n",
       "                        <th id=\"T_18f85677_c4fe_11eb_a59b_80c5f26d1520level0_row37\" class=\"row_heading level0 row37\" >37</th>\n",
       "                        <td id=\"T_18f85677_c4fe_11eb_a59b_80c5f26d1520row37_col0\" class=\"data row37 col0\" >Numeric Binning</td>\n",
       "                        <td id=\"T_18f85677_c4fe_11eb_a59b_80c5f26d1520row37_col1\" class=\"data row37 col1\" >False</td>\n",
       "            </tr>\n",
       "            <tr>\n",
       "                        <th id=\"T_18f85677_c4fe_11eb_a59b_80c5f26d1520level0_row38\" class=\"row_heading level0 row38\" >38</th>\n",
       "                        <td id=\"T_18f85677_c4fe_11eb_a59b_80c5f26d1520row38_col0\" class=\"data row38 col0\" >Remove Outliers</td>\n",
       "                        <td id=\"T_18f85677_c4fe_11eb_a59b_80c5f26d1520row38_col1\" class=\"data row38 col1\" >False</td>\n",
       "            </tr>\n",
       "            <tr>\n",
       "                        <th id=\"T_18f85677_c4fe_11eb_a59b_80c5f26d1520level0_row39\" class=\"row_heading level0 row39\" >39</th>\n",
       "                        <td id=\"T_18f85677_c4fe_11eb_a59b_80c5f26d1520row39_col0\" class=\"data row39 col0\" >Outliers Threshold</td>\n",
       "                        <td id=\"T_18f85677_c4fe_11eb_a59b_80c5f26d1520row39_col1\" class=\"data row39 col1\" >None</td>\n",
       "            </tr>\n",
       "            <tr>\n",
       "                        <th id=\"T_18f85677_c4fe_11eb_a59b_80c5f26d1520level0_row40\" class=\"row_heading level0 row40\" >40</th>\n",
       "                        <td id=\"T_18f85677_c4fe_11eb_a59b_80c5f26d1520row40_col0\" class=\"data row40 col0\" >Remove Multicollinearity</td>\n",
       "                        <td id=\"T_18f85677_c4fe_11eb_a59b_80c5f26d1520row40_col1\" class=\"data row40 col1\" >False</td>\n",
       "            </tr>\n",
       "            <tr>\n",
       "                        <th id=\"T_18f85677_c4fe_11eb_a59b_80c5f26d1520level0_row41\" class=\"row_heading level0 row41\" >41</th>\n",
       "                        <td id=\"T_18f85677_c4fe_11eb_a59b_80c5f26d1520row41_col0\" class=\"data row41 col0\" >Multicollinearity Threshold</td>\n",
       "                        <td id=\"T_18f85677_c4fe_11eb_a59b_80c5f26d1520row41_col1\" class=\"data row41 col1\" >None</td>\n",
       "            </tr>\n",
       "            <tr>\n",
       "                        <th id=\"T_18f85677_c4fe_11eb_a59b_80c5f26d1520level0_row42\" class=\"row_heading level0 row42\" >42</th>\n",
       "                        <td id=\"T_18f85677_c4fe_11eb_a59b_80c5f26d1520row42_col0\" class=\"data row42 col0\" >Clustering</td>\n",
       "                        <td id=\"T_18f85677_c4fe_11eb_a59b_80c5f26d1520row42_col1\" class=\"data row42 col1\" >False</td>\n",
       "            </tr>\n",
       "            <tr>\n",
       "                        <th id=\"T_18f85677_c4fe_11eb_a59b_80c5f26d1520level0_row43\" class=\"row_heading level0 row43\" >43</th>\n",
       "                        <td id=\"T_18f85677_c4fe_11eb_a59b_80c5f26d1520row43_col0\" class=\"data row43 col0\" >Clustering Iteration</td>\n",
       "                        <td id=\"T_18f85677_c4fe_11eb_a59b_80c5f26d1520row43_col1\" class=\"data row43 col1\" >None</td>\n",
       "            </tr>\n",
       "            <tr>\n",
       "                        <th id=\"T_18f85677_c4fe_11eb_a59b_80c5f26d1520level0_row44\" class=\"row_heading level0 row44\" >44</th>\n",
       "                        <td id=\"T_18f85677_c4fe_11eb_a59b_80c5f26d1520row44_col0\" class=\"data row44 col0\" >Polynomial Features</td>\n",
       "                        <td id=\"T_18f85677_c4fe_11eb_a59b_80c5f26d1520row44_col1\" class=\"data row44 col1\" >False</td>\n",
       "            </tr>\n",
       "            <tr>\n",
       "                        <th id=\"T_18f85677_c4fe_11eb_a59b_80c5f26d1520level0_row45\" class=\"row_heading level0 row45\" >45</th>\n",
       "                        <td id=\"T_18f85677_c4fe_11eb_a59b_80c5f26d1520row45_col0\" class=\"data row45 col0\" >Polynomial Degree</td>\n",
       "                        <td id=\"T_18f85677_c4fe_11eb_a59b_80c5f26d1520row45_col1\" class=\"data row45 col1\" >None</td>\n",
       "            </tr>\n",
       "            <tr>\n",
       "                        <th id=\"T_18f85677_c4fe_11eb_a59b_80c5f26d1520level0_row46\" class=\"row_heading level0 row46\" >46</th>\n",
       "                        <td id=\"T_18f85677_c4fe_11eb_a59b_80c5f26d1520row46_col0\" class=\"data row46 col0\" >Trignometry Features</td>\n",
       "                        <td id=\"T_18f85677_c4fe_11eb_a59b_80c5f26d1520row46_col1\" class=\"data row46 col1\" >False</td>\n",
       "            </tr>\n",
       "            <tr>\n",
       "                        <th id=\"T_18f85677_c4fe_11eb_a59b_80c5f26d1520level0_row47\" class=\"row_heading level0 row47\" >47</th>\n",
       "                        <td id=\"T_18f85677_c4fe_11eb_a59b_80c5f26d1520row47_col0\" class=\"data row47 col0\" >Polynomial Threshold</td>\n",
       "                        <td id=\"T_18f85677_c4fe_11eb_a59b_80c5f26d1520row47_col1\" class=\"data row47 col1\" >None</td>\n",
       "            </tr>\n",
       "            <tr>\n",
       "                        <th id=\"T_18f85677_c4fe_11eb_a59b_80c5f26d1520level0_row48\" class=\"row_heading level0 row48\" >48</th>\n",
       "                        <td id=\"T_18f85677_c4fe_11eb_a59b_80c5f26d1520row48_col0\" class=\"data row48 col0\" >Group Features</td>\n",
       "                        <td id=\"T_18f85677_c4fe_11eb_a59b_80c5f26d1520row48_col1\" class=\"data row48 col1\" >False</td>\n",
       "            </tr>\n",
       "            <tr>\n",
       "                        <th id=\"T_18f85677_c4fe_11eb_a59b_80c5f26d1520level0_row49\" class=\"row_heading level0 row49\" >49</th>\n",
       "                        <td id=\"T_18f85677_c4fe_11eb_a59b_80c5f26d1520row49_col0\" class=\"data row49 col0\" >Feature Selection</td>\n",
       "                        <td id=\"T_18f85677_c4fe_11eb_a59b_80c5f26d1520row49_col1\" class=\"data row49 col1\" >False</td>\n",
       "            </tr>\n",
       "            <tr>\n",
       "                        <th id=\"T_18f85677_c4fe_11eb_a59b_80c5f26d1520level0_row50\" class=\"row_heading level0 row50\" >50</th>\n",
       "                        <td id=\"T_18f85677_c4fe_11eb_a59b_80c5f26d1520row50_col0\" class=\"data row50 col0\" >Feature Selection Method</td>\n",
       "                        <td id=\"T_18f85677_c4fe_11eb_a59b_80c5f26d1520row50_col1\" class=\"data row50 col1\" >classic</td>\n",
       "            </tr>\n",
       "            <tr>\n",
       "                        <th id=\"T_18f85677_c4fe_11eb_a59b_80c5f26d1520level0_row51\" class=\"row_heading level0 row51\" >51</th>\n",
       "                        <td id=\"T_18f85677_c4fe_11eb_a59b_80c5f26d1520row51_col0\" class=\"data row51 col0\" >Features Selection Threshold</td>\n",
       "                        <td id=\"T_18f85677_c4fe_11eb_a59b_80c5f26d1520row51_col1\" class=\"data row51 col1\" >None</td>\n",
       "            </tr>\n",
       "            <tr>\n",
       "                        <th id=\"T_18f85677_c4fe_11eb_a59b_80c5f26d1520level0_row52\" class=\"row_heading level0 row52\" >52</th>\n",
       "                        <td id=\"T_18f85677_c4fe_11eb_a59b_80c5f26d1520row52_col0\" class=\"data row52 col0\" >Feature Interaction</td>\n",
       "                        <td id=\"T_18f85677_c4fe_11eb_a59b_80c5f26d1520row52_col1\" class=\"data row52 col1\" >False</td>\n",
       "            </tr>\n",
       "            <tr>\n",
       "                        <th id=\"T_18f85677_c4fe_11eb_a59b_80c5f26d1520level0_row53\" class=\"row_heading level0 row53\" >53</th>\n",
       "                        <td id=\"T_18f85677_c4fe_11eb_a59b_80c5f26d1520row53_col0\" class=\"data row53 col0\" >Feature Ratio</td>\n",
       "                        <td id=\"T_18f85677_c4fe_11eb_a59b_80c5f26d1520row53_col1\" class=\"data row53 col1\" >False</td>\n",
       "            </tr>\n",
       "            <tr>\n",
       "                        <th id=\"T_18f85677_c4fe_11eb_a59b_80c5f26d1520level0_row54\" class=\"row_heading level0 row54\" >54</th>\n",
       "                        <td id=\"T_18f85677_c4fe_11eb_a59b_80c5f26d1520row54_col0\" class=\"data row54 col0\" >Interaction Threshold</td>\n",
       "                        <td id=\"T_18f85677_c4fe_11eb_a59b_80c5f26d1520row54_col1\" class=\"data row54 col1\" >None</td>\n",
       "            </tr>\n",
       "            <tr>\n",
       "                        <th id=\"T_18f85677_c4fe_11eb_a59b_80c5f26d1520level0_row55\" class=\"row_heading level0 row55\" >55</th>\n",
       "                        <td id=\"T_18f85677_c4fe_11eb_a59b_80c5f26d1520row55_col0\" class=\"data row55 col0\" >Transform Target</td>\n",
       "                        <td id=\"T_18f85677_c4fe_11eb_a59b_80c5f26d1520row55_col1\" class=\"data row55 col1\" >False</td>\n",
       "            </tr>\n",
       "            <tr>\n",
       "                        <th id=\"T_18f85677_c4fe_11eb_a59b_80c5f26d1520level0_row56\" class=\"row_heading level0 row56\" >56</th>\n",
       "                        <td id=\"T_18f85677_c4fe_11eb_a59b_80c5f26d1520row56_col0\" class=\"data row56 col0\" >Transform Target Method</td>\n",
       "                        <td id=\"T_18f85677_c4fe_11eb_a59b_80c5f26d1520row56_col1\" class=\"data row56 col1\" >box-cox</td>\n",
       "            </tr>\n",
       "    </tbody></table>"
      ],
      "text/plain": [
       "<pandas.io.formats.style.Styler at 0x2331df877c0>"
      ]
     },
     "metadata": {},
     "output_type": "display_data"
    }
   ],
   "source": [
    "# checking dataset parameters\n",
    "parameters = setup(data = df, target = 'sentiment')"
   ]
  },
  {
   "cell_type": "code",
   "execution_count": 4,
   "metadata": {},
   "outputs": [
    {
     "data": {
      "text/plain": [
       "Text(0.5, 1.0, 'Target Variable')"
      ]
     },
     "execution_count": 4,
     "metadata": {},
     "output_type": "execute_result"
    },
    {
     "data": {
      "image/png": "[encoded data removed]",
      "text/plain": [
       "<Figure size 1080x432 with 1 Axes>"
      ]
     },
     "metadata": {
      "needs_background": "light"
     },
     "output_type": "display_data"
    }
   ],
   "source": [
    "# graph the target variable\n",
    "plt.figure(figsize=(15,6))\n",
    "plt.hist(df['sentiment'])\n",
    "plt.xlabel(\"Sentiment\")\n",
    "plt.xticks(range(0,2,1))\n",
    "plt.ylabel(\"Number of Tweets\")\n",
    "plt.title(\"Target Variable\")"
   ]
  },
  {
   "cell_type": "markdown",
   "metadata": {},
   "source": [
    "<h2>Model Creation</h2>"
   ]
  },
  {
   "cell_type": "code",
   "execution_count": 5,
   "metadata": {},
   "outputs": [],
   "source": [
    "# define the input and output variable\n",
    "X = df['post']\n",
    "tfidf = TfidfVectorizer(max_features = 10000, ngram_range = (1,2))\n",
    "X = tfidf.fit_transform(X)\n",
    "y = df['sentiment']"
   ]
  },
  {
   "cell_type": "code",
   "execution_count": 6,
   "metadata": {},
   "outputs": [],
   "source": [
    "# define the training and test dataset\n",
    "X_train, X_test, y_train, y_test = train_test_split(X, y, test_size = 0.3, random_state = 0)"
   ]
  },
  {
   "cell_type": "code",
   "execution_count": 7,
   "metadata": {},
   "outputs": [
    {
     "data": {
      "text/plain": [
       "LinearSVC(C=1.0, class_weight=None, dual=True, fit_intercept=True,\n",
       "          intercept_scaling=1, loss='squared_hinge', max_iter=1000,\n",
       "          multi_class='ovr', penalty='l2', random_state=None, tol=0.0001,\n",
       "          verbose=0)"
      ]
     },
     "execution_count": 7,
     "metadata": {},
     "output_type": "execute_result"
    }
   ],
   "source": [
    "# create the model and fit data\n",
    "model = LinearSVC()\n",
    "model.fit(X_train, y_train)"
   ]
  },
  {
   "cell_type": "code",
   "execution_count": 8,
   "metadata": {},
   "outputs": [
    {
     "name": "stdout",
     "output_type": "stream",
     "text": [
      "              precision    recall  f1-score   support\n",
      "\n",
      "           0       0.83      0.75      0.79       152\n",
      "           1       0.77      0.84      0.80       148\n",
      "\n",
      "    accuracy                           0.79       300\n",
      "   macro avg       0.80      0.79      0.79       300\n",
      "weighted avg       0.80      0.79      0.79       300\n",
      "\n"
     ]
    }
   ],
   "source": [
    "prediction_value = model.predict(X_test)\n",
    "print(classification_report(y_test, prediction_value))"
   ]
  },
  {
   "cell_type": "markdown",
   "metadata": {},
   "source": [
    "<h2>User Interface</h2>"
   ]
  },
  {
   "cell_type": "code",
   "execution_count": 9,
   "metadata": {},
   "outputs": [
    {
     "data": {
      "application/vnd.jupyter.widget-view+json": {
       "model_id": "ee19ae7ca8984d4ea987be1254ab02e3",
       "version_major": 2,
       "version_minor": 0
      },
      "text/plain": [
       "Textarea(value='', placeholder='Type something')"
      ]
     },
     "metadata": {},
     "output_type": "display_data"
    },
    {
     "data": {
      "application/vnd.jupyter.widget-view+json": {
       "model_id": "cd2e4253ee914b5fa1300b4acf4b147e",
       "version_major": 2,
       "version_minor": 0
      },
      "text/plain": [
       "Button(description='Say Sentiment', style=ButtonStyle())"
      ]
     },
     "metadata": {},
     "output_type": "display_data"
    },
    {
     "data": {
      "application/vnd.jupyter.widget-view+json": {
       "model_id": "e59d2e1967ab4db7a1f2e4086a2d7ad5",
       "version_major": 2,
       "version_minor": 0
      },
      "text/plain": [
       "Output()"
      ]
     },
     "metadata": {},
     "output_type": "display_data"
    }
   ],
   "source": [
    "# user interface using pywidgets\n",
    "# define text input widget\n",
    "input_text = widgets.Textarea(\n",
    "    value = '',\n",
    "    placeholder='Type something',\n",
    "    disabled=False\n",
    ")\n",
    "\n",
    "# display widget\n",
    "display(input_text)\n",
    "\n",
    "# define button and output widget\n",
    "say_sentiment_button = widgets.Button(description=\"Say Sentiment\")\n",
    "output = widgets.Output()\n",
    "display(say_sentiment_button, output)\n",
    "\n",
    "# on click function\n",
    "def on_button_clicked(b):\n",
    "    with output:\n",
    "        input_sentiment = tfidf.transform([input_text.value])\n",
    "        result = model.predict(input_sentiment)\n",
    "        if(result == 0):\n",
    "            print(\"\\n\\nYour input is '{0}'\\n\\nYOUR INPUT IS NEGATIVE SENTIMENT\".format(input_text.value))\n",
    "        else:\n",
    "            print(\"\\n\\nYour input is '{0}'\\n\\nYOUR INPUT IS POSITIVE SENTIMENT\".format(input_text.value))\n",
    "        \n",
    "say_sentiment_button.on_click(on_button_clicked)\n",
    "\n",
    "# sample inputs\n",
    "# I love sentiment analysis but it's too hard to study 😧\n",
    "# My real time happy 😊"
   ]
  },
  {
   "cell_type": "code",
   "execution_count": 12,
   "metadata": {},
   "outputs": [],
   "source": [
    "# user interface using tkinter\n",
    "root= tk.Tk()\n",
    "root.title(\"Laboratory No. 6\")\n",
    "root.resizable(False, False)\n",
    "root.geometry('400x200')\n",
    "\n",
    "# define frame\n",
    "frame = tk.Frame(root, bg='black')\n",
    "frame.pack(fill='both', expand='yes')\n",
    "\n",
    "# define the input text\n",
    "input_sentiment = tk.Entry (root) \n",
    "input_sentiment.pack()\n",
    "input_sentiment.place(x = 10,\n",
    "        y = 10,\n",
    "        width=380,\n",
    "        height=25)\n",
    "input_sentiment.insert(0, \"Enter Text Here\")\n",
    "input_sentiment.configure(font=(\"Courier\", 10))\n",
    "\n",
    "# define the output text\n",
    "output_sentiment = tk.Text(root, height = 5, width = 380, bg='black', foreground=\"white\") \n",
    "output_sentiment.bind(\"<Key>\", lambda e: \"break\")\n",
    "output_sentiment.configure(font=(\"Courier\", 13))\n",
    "output_sentiment.pack() \n",
    "\n",
    "# find sentiment based on the model\n",
    "def findSentiment():\n",
    "    user_input = input_sentiment.get()\n",
    "    vec = tfidf.transform([user_input])\n",
    "    result = model.predict(vec)\n",
    "    separator = '---------------------------------------'\n",
    "    if(result == 0):\n",
    "        output_sentiment.insert(tk.END, \"\\nYour input is '{0}'\\n\\nYOUR INPUT IS NEGATIVE SENTIMENT\\n{1}\\n\"\n",
    "                                .format(user_input, separator)) \n",
    "    else:\n",
    "        output_sentiment.insert(tk.END, \"\\nYour input is '{0}'\\n\\nYOUR INPUT IS POSITIVE SENTIMENT\\n{1}\\n\"\n",
    "                                .format(user_input, separator)) \n",
    "        \n",
    "# clear text\n",
    "def clearText():\n",
    "    output_sentiment.delete('1.0', tk.END)\n",
    "    input_sentiment.delete(0, tk.END)\n",
    "\n",
    "# exit\n",
    "def exit():\n",
    "    root.destroy()\n",
    "\n",
    "\n",
    "# define all the buttons\n",
    "find_sentiment_btn = tk.Button(text='Say Sentiment', command = findSentiment,activeforeground = \"red\"\n",
    "                               ,activebackground = \"pink\")\n",
    "clear_btn = tk.Button(text='Clear', command = clearText,activeforeground = \"red\",activebackground = \"pink\")\n",
    "exit_btn = tk.Button(text='Exit', command = exit,activeforeground = \"red\",activebackground = \"pink\")\n",
    "\n",
    "find_sentiment_btn.pack(side='left', padx=10)\n",
    "clear_btn.pack(side='left', padx=3)\n",
    "exit_btn.pack(side='left', padx=3)\n",
    "\n",
    "find_sentiment_btn.configure(font=(\"Courier\", 10))\n",
    "clear_btn.configure(font=(\"Courier\", 10))\n",
    "exit_btn.configure(font=(\"Courier\", 10))\n",
    "\n",
    "root.mainloop()"
   ]
  },
  {
   "cell_type": "code",
   "execution_count": null,
   "metadata": {},
   "outputs": [],
   "source": []
  }
 ],
 "metadata": {
  "kernelspec": {
   "display_name": "Python 3",
   "language": "python",
   "name": "python3"
  },
  "language_info": {
   "codemirror_mode": {
    "name": "ipython",
    "version": 3
   },
   "file_extension": ".py",
   "mimetype": "text/x-python",
   "name": "python",
   "nbconvert_exporter": "python",
   "pygments_lexer": "ipython3",
   "version": "3.8.5"
  }
 },
 "nbformat": 4,
 "nbformat_minor": 4
}
