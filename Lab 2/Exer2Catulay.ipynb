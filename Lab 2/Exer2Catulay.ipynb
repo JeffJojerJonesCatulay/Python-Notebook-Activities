{
 "cells": [
  {
   "cell_type": "markdown",
   "metadata": {},
   "source": [
    "# Jeff Jojer Jones E Catulay\n",
    "BSCS 3B"
   ]
  },
  {
   "cell_type": "markdown",
   "metadata": {},
   "source": [
    "# Question 1\n"
   ]
  },
  {
   "cell_type": "code",
   "execution_count": 1,
   "metadata": {},
   "outputs": [
    {
     "name": "stdout",
     "output_type": "stream",
     "text": [
      "Input = Earist#34\n",
      "Input = institute@\n",
      "Input = Madam1#\n",
      "\n",
      "Expected Output:\n",
      "True\n",
      "False\n",
      "False\n"
     ]
    }
   ],
   "source": [
    "# empty array of result\n",
    "expected_output_Qone = []\n",
    "\n",
    "def check_password(password_input):\n",
    "    \n",
    "    # initializing default value\n",
    "    length_valid = False\n",
    "    lowercase_valid = False\n",
    "    uppercase_valid = False\n",
    "    number_valid = False\n",
    "    symbol_valid = False\n",
    "    \n",
    "    # check if less than 7 char\n",
    "    password_len = len(password_input)\n",
    "    if (password_len <= 7):\n",
    "        length_valid = False\n",
    "    else:\n",
    "        length_valid = True\n",
    "\n",
    "    # split every char in the input\n",
    "    char =  list(password_input)\n",
    "    for item in char:\n",
    "        # check if at least one is lower\n",
    "        if item.islower():\n",
    "            lowercase_valid = True\n",
    "        # check if at least one is upper\n",
    "        if item.isupper():\n",
    "            uppercase_valid = True\n",
    "        # check if at least one is number\n",
    "        if item.isnumeric():\n",
    "            number_valid = True\n",
    "        # check if at least one is # symbol\n",
    "        if item == '#':\n",
    "            symbol_valid = True\n",
    "\n",
    "    # validate if all condition is met        \n",
    "    if (length_valid and lowercase_valid and uppercase_valid and number_valid and symbol_valid):\n",
    "        expected_output_Qone.append(\"True\") \n",
    "    else:\n",
    "        expected_output_Qone.append(\"False\") \n",
    "        \n",
    "# to input 3 word    \n",
    "for x in range(3):\n",
    "    user_input = input(\"Input = \")\n",
    "    check_password(user_input)\n",
    "# display all 3 output\n",
    "print(\"\\nExpected Output:\")    \n",
    "for item in expected_output_Qone:\n",
    "    print(item)\n",
    "    \n",
    "# Inputs:\n",
    "# Earist#34\n",
    "# institute@\n",
    "# Madam1#"
   ]
  },
  {
   "cell_type": "markdown",
   "metadata": {},
   "source": [
    "# Question 2\n",
    "Part 1: Convert Email to Full Name "
   ]
  },
  {
   "cell_type": "code",
   "execution_count": 2,
   "metadata": {},
   "outputs": [
    {
     "name": "stdout",
     "output_type": "stream",
     "text": [
      "Enter the Email: costales.jefferson@earist.edu.ph\n",
      "Enter the Email: Latosa.leslie@earist.edu.ph\n",
      "\n",
      "Expected Output:\n",
      "JEFFERSON,COSTALES\n",
      "LESLIE,LATOSA\n"
     ]
    }
   ],
   "source": [
    "# empty array of result\n",
    "expected_output_Qtwo_partOne = []\n",
    "\n",
    "# to input 2 email\n",
    "for x in range(2):\n",
    "    email = input(\"Enter the Email: \")\n",
    "    # remove\n",
    "    remove_email = email.replace('@earist.edu.ph', \"\")\n",
    "    # replace\n",
    "    replace_period = remove_email.replace('.', \" \")\n",
    "    # final\n",
    "    name = replace_period.split()\n",
    "\n",
    "    expected_output_Qtwo_partOne.append(\"{0},{1}\".format(name[1].upper(), name[0].upper()))\n",
    "\n",
    "# display\n",
    "print(\"\\nExpected Output:\")    \n",
    "for item in expected_output_Qtwo_partOne:\n",
    "    print(item)\n",
    "    \n",
    "# Inputs:\n",
    "# costales.jefferson@earist.edu.ph\n",
    "# Latosa.leslie@earist.edu.ph"
   ]
  },
  {
   "cell_type": "markdown",
   "metadata": {},
   "source": [
    "Part 2: Calculate Average Grade "
   ]
  },
  {
   "cell_type": "code",
   "execution_count": 3,
   "metadata": {},
   "outputs": [
    {
     "name": "stdout",
     "output_type": "stream",
     "text": [
      "0,50.4,80.3,95.9\n",
      "99.9,91.3,99.2,98.0\n",
      "\n",
      "Expected Output:\n",
      "56.65\n",
      "97.1\n"
     ]
    }
   ],
   "source": [
    "# empty array of result\n",
    "expected_output_Qtwo_partTwo = []\n",
    "\n",
    "def score_average(grade):\n",
    "    # remove\n",
    "    replace_comma = grade.replace(',', \" \")\n",
    "    # to array\n",
    "    array_str = replace_comma.split()\n",
    "    \n",
    "    # str to float, computation\n",
    "    array_int = [float(i) for i in array_str]\n",
    "    result = sum(array_int) / 4\n",
    "    expected_output_Qtwo_partTwo.append(result)\n",
    "\n",
    "# to input 2 set  \n",
    "for x in range(2):\n",
    "    grade_input = input()\n",
    "    score_average(grade_input)\n",
    "\n",
    "# display\n",
    "print(\"\\nExpected Output:\")    \n",
    "for item in expected_output_Qtwo_partTwo:\n",
    "    print(item)\n",
    "    \n",
    "# Inputs:\n",
    "# 0,50.4,80.3,95.9\n",
    "# 99.9,91.3,99.2,98.0"
   ]
  },
  {
   "cell_type": "markdown",
   "metadata": {},
   "source": [
    "Part 3: Showing final Output "
   ]
  },
  {
   "cell_type": "code",
   "execution_count": 4,
   "metadata": {},
   "outputs": [
    {
     "name": "stdout",
     "output_type": "stream",
     "text": [
      "<JEFFERSON,COSTALES,56.65>\n",
      "<LESLIE,LATOSA,97.1>\n"
     ]
    }
   ],
   "source": [
    "def final_output():\n",
    "    print(\"<{0},{1}>\".format(expected_output_Qtwo_partOne[0], expected_output_Qtwo_partTwo[0]))\n",
    "    print(\"<{0},{1}>\".format(expected_output_Qtwo_partOne[1], expected_output_Qtwo_partTwo[1]))\n",
    "\n",
    "final_output()"
   ]
  },
  {
   "cell_type": "markdown",
   "metadata": {},
   "source": [
    "# Question 3"
   ]
  },
  {
   "cell_type": "code",
   "execution_count": 5,
   "metadata": {},
   "outputs": [
    {
     "name": "stdout",
     "output_type": "stream",
     "text": [
      "Input Here: 17\n",
      "1\n",
      "17\n"
     ]
    }
   ],
   "source": [
    "def prime_factorize(x):\n",
    "    input_val = int(x)\n",
    "    if (input_val <= 0):\n",
    "        print(\"Out of Range\")\n",
    "    # checking of factors\n",
    "    elif (input_val<50):\n",
    "        for i in range(1,input_val+1):\n",
    "            if input_val % i == 0:\n",
    "                print(i) \n",
    "    else:\n",
    "        print(\"Out of Range\")\n",
    "\n",
    "num = input(\"Input Here: \")\n",
    "prime_factorize(num)\n",
    "\n",
    "# Sample Input: \n",
    "# 17 Result: 1, 17\n",
    "# 0 Result: Out of Range\n",
    "# 100 Result: Out of Range"
   ]
  },
  {
   "cell_type": "code",
   "execution_count": null,
   "metadata": {},
   "outputs": [],
   "source": []
  }
 ],
 "metadata": {
  "kernelspec": {
   "display_name": "Python 3",
   "language": "python",
   "name": "python3"
  },
  "language_info": {
   "codemirror_mode": {
    "name": "ipython",
    "version": 3
   },
   "file_extension": ".py",
   "mimetype": "text/x-python",
   "name": "python",
   "nbconvert_exporter": "python",
   "pygments_lexer": "ipython3",
   "version": "3.8.5"
  }
 },
 "nbformat": 4,
 "nbformat_minor": 4
}
