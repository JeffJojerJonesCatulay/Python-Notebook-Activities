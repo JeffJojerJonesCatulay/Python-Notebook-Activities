{
 "cells": [
  {
   "cell_type": "markdown",
   "metadata": {},
   "source": [
    "<h3>Jeff Jojer Jones E. Catulay</h3>\n",
    "BSCS 3B"
   ]
  },
  {
   "cell_type": "markdown",
   "metadata": {},
   "source": [
    "<h4>Question 1:</h4> \n",
    "    \n",
    "Define a  function recursivecount() which accepts the given list from user and must return the number of items in the list, using recursion, if the list is not empty. Input is user’s choice.\n",
    "[Hint: Make sure that you are not using len () function to count it.].\n",
    "\n",
    "If the user input is an empty list, then it must throw an error message \"the given list is empty\"\n",
    "[Hint: Use try and Exception]\n",
    "\n",
    "You must show answers for both cases: 1) Empty list 2) Non-empty List\n"
   ]
  },
  {
   "cell_type": "code",
   "execution_count": 1,
   "metadata": {},
   "outputs": [
    {
     "name": "stdout",
     "output_type": "stream",
     "text": [
      "Input List Here: 4,4,5\n",
      "Item(s) in the list: 3\n"
     ]
    }
   ],
   "source": [
    "# to count the item in the list\n",
    "def recursive_count(user_input):\n",
    "    try:\n",
    "        if not user_input:\n",
    "            raise ValueError\n",
    "        else:\n",
    "            replace = user_input.replace(\",\", \" \")\n",
    "            res = replace.split()\n",
    "            print(\"Item(s) in the list: {0}\".format(len(res)))\n",
    "    except ValueError:\n",
    "        print(\"The given list is empty\")\n",
    "# sample input: 1,2,6,35,5        \n",
    "recursive_count(input(\"Input List Here: \"))"
   ]
  },
  {
   "cell_type": "markdown",
   "metadata": {},
   "source": [
    "<h4>Question 2:</h4>\n",
    "\n",
    "create a module called similarity which should have the program for cosine_similarity.\n",
    "make sure that you are doing hard coding to find the cosine similarity. \n",
    "\n",
    "Now in the python program, import that module calculate the cosine_similarity for the followings. \n",
    "input1=[4,4,5] \n",
    "input2=[4,2,3]\n"
   ]
  },
  {
   "cell_type": "code",
   "execution_count": 3,
   "metadata": {},
   "outputs": [
    {
     "name": "stdout",
     "output_type": "stream",
     "text": [
      "Enter 1st list : 4,4,5\n",
      "Enter 2nd list : 4,2,3\n",
      "\n",
      "Result of My Cosine Similarity Computation: 0.96\n",
      "\n",
      "For Comparison of the Result\n",
      "\n",
      "Scikit-Learn: [[0.95924199]]\n"
     ]
    }
   ],
   "source": [
    "import Similarity as sm # custom module named Similarity.py\n",
    "\n",
    "# sample input 4,4,5 and 4,2,3\n",
    "x_input = [int(item) for item in input(\"Enter 1st list : \").replace(\",\", \" \").split()]\n",
    "y_input = [int(item) for item in input(\"Enter 2nd list : \").replace(\",\", \" \").split()]\n",
    "\n",
    "# My Result from hardcoded module for cosine similarity computation\n",
    "print(\"\\nResult of My Cosine Similarity Computation: {0}\".format(sm.cosine_similarity(x_input,y_input)))\n",
    "\n",
    "# to compare the accuracy of my result to scikit learn library\n",
    "from sklearn.metrics.pairwise import cosine_similarity\n",
    "print(\"\\nFor Comparison of the Result\")\n",
    "print('\\nScikit-Learn:', cosine_similarity([x_input], [y_input]))\n",
    "\n",
    "# Similarity.py is save in the same directory"
   ]
  },
  {
   "cell_type": "markdown",
   "metadata": {},
   "source": [
    "<h4>Question 3:</h4>\n",
    "    \n",
    "Create 4 lists, each has 6 items in it. No duplicate values/duplicate lists are allowed.\n",
    "Now create a function called \"calculation\" which must return the result of (product of 2 lowest / product of 2 highest)\n",
    "Say an example if your list is [1,2,3,4,5,6], it must return (1*2)/(5*6)=0.067. \n",
    "Round the final answer to 3 decimal places. \n",
    "\n",
    "Keep all the lists in a base class called \"parent\"\n",
    "Function should be in derived class called \"child\"\n"
   ]
  },
  {
   "cell_type": "code",
   "execution_count": 4,
   "metadata": {},
   "outputs": [
    {
     "name": "stdout",
     "output_type": "stream",
     "text": [
      "1st Result: \n",
      "(1, 2, 3, 4, 5, 6) = 0.067\n",
      "2nd Result: \n",
      "(7, 84, 9, 10, 11, 124) = 0.006\n",
      "3rd Result: \n",
      "(133, 14, 15, 164, 17, 18) = 0.01\n",
      "4th Result: \n",
      "(141, 20, 214, 22, 23, 24) = 0.015\n"
     ]
    }
   ],
   "source": [
    "# base class for all the list\n",
    "class Parent:\n",
    "    # initialize\n",
    "    def __init__(self, n1, n2, n3, n4, n5, n6):\n",
    "        # contains six items\n",
    "        self.n1 = n1\n",
    "        self.n2 = n2\n",
    "        self.n3 = n3\n",
    "        self.n4 = n4\n",
    "        self.n5 = n5\n",
    "        self.n6 = n6\n",
    "    # return value\n",
    "    def value(self):\n",
    "        return(self.n1,self.n2,self.n3,self.n4,self.n5,self.n6)\n",
    "\n",
    "# class to hold the calculation function\n",
    "class Child:\n",
    "    def calculation(num_to_array):\n",
    "        # convert input to array\n",
    "        number = list(num_to_array)\n",
    "        number.sort()\n",
    "        # compute the product of 2 lowest value\n",
    "        lowest = min(number)\n",
    "        min_index_1 = number.index(lowest)\n",
    "        min_index_2 = min_index_1 + 1\n",
    "        prod_lowest = number[min_index_1] * number[min_index_2]\n",
    "        # compute the product of 2 highest value\n",
    "        highest = max(number)\n",
    "        max_index_1 = number.index(highest)\n",
    "        max_index_2 = max_index_1 - 1\n",
    "        prod_highest = number[max_index_1] * number[max_index_2]\n",
    "        # compute the quotient of the product of the lowest and highest number\n",
    "        res = prod_lowest / prod_highest\n",
    "        final = round(res, 3)\n",
    "        return final\n",
    "# initialize the value\n",
    "l1 = Parent(1,2,3,4,5,6)\n",
    "l2 = Parent(7,84,9,10,11,124)\n",
    "l3 = Parent(133,14,15,164,17,18)\n",
    "l4 = Parent(141,20,214,22,23,24)\n",
    "\n",
    "# print all the result\n",
    "print(\"1st Result: \\n{0} = {1}\".format(l1.value(), Child.calculation(l1.value())))\n",
    "print(\"2nd Result: \\n{0} = {1}\".format(l2.value(), Child.calculation(l2.value())))\n",
    "print(\"3rd Result: \\n{0} = {1}\".format(l3.value(), Child.calculation(l3.value())))\n",
    "print(\"4th Result: \\n{0} = {1}\".format(l4.value(), Child.calculation(l4.value())))"
   ]
  },
  {
   "cell_type": "markdown",
   "metadata": {},
   "source": [
    "<h4>Question 4:</h4>\n",
    "\n",
    "Create a class called “ list-checking” to check whether the sub list is a subset of super list or not.\n",
    "\n",
    "Show answers for both cases 1) the given sub list is a subset of superlist 2)the given sub list is not a subset of super list\n"
   ]
  },
  {
   "cell_type": "code",
   "execution_count": 7,
   "metadata": {},
   "outputs": [
    {
     "name": "stdout",
     "output_type": "stream",
     "text": [
      "Subset of the Class\n"
     ]
    }
   ],
   "source": [
    "l5 = [1,2,3,4,5] # sample list that is not a subset of the super list\n",
    "\n",
    "# class to check instances\n",
    "class list_checking:\n",
    "    def __init__(self, input_to_check):\n",
    "        self.input_to_check = input_to_check\n",
    "    # funtion to return true of false\n",
    "    def checking(self):         \n",
    "        if isinstance(self, Parent):\n",
    "            print(\"Subset of the Class\")\n",
    "        else:\n",
    "            print(\"Not A subset of the class\")\n",
    "\n",
    "# check if the input is a gven variable\n",
    "try: \n",
    "    # if the variable exist check if its a subset\n",
    "    list_checking.checking(l4)\n",
    "except NameError:\n",
    "    # if not throw a NameError\n",
    "    print(\"The Variable don't exist\")"
   ]
  },
  {
   "cell_type": "markdown",
   "metadata": {},
   "source": [
    "<h4>Question 5:</h4>\n",
    "\n",
    "Create a function “file-lines” that accepts an unlimited number of arguments having file paths as values and returns a dictionary with the argument name as the key and the total number of characters in the file path as value.\n",
    "\n",
    "Input should be the one as follows:\n",
    "\n",
    "File-lines(F1=’/mnt/data.docx’,\n",
    "               F2=’/mnt/xxx.docx’,\n",
    "               F3=’/mnt/file123.jpg’) \n",
    "\n",
    "Expected output:\n",
    "{F1: 16, F2:15, F3:17}\n"
   ]
  },
  {
   "cell_type": "code",
   "execution_count": 8,
   "metadata": {},
   "outputs": [
    {
     "name": "stdout",
     "output_type": "stream",
     "text": [
      "F1:16\n",
      "F2:15\n",
      "F3:18\n"
     ]
    }
   ],
   "source": [
    "# empty arrays\n",
    "data_input = []\n",
    "split_val = []\n",
    "converted_dict = []\n",
    "combine_dict = {}\n",
    "\n",
    "# main function\n",
    "def show_args(*args):\n",
    "    # convert input to array\n",
    "    input_list = list(args)\n",
    "    # replace the '=' to space\n",
    "    for inputs in input_list:\n",
    "        input_replaced = inputs.replace('=', ' ')\n",
    "        data_input.append(input_replaced)  \n",
    "    # after replacing the '=' split the array\n",
    "    for item in data_input:\n",
    "        items = item.split()\n",
    "        split_val.append(items)\n",
    "    # convert the split array into a dictionary\n",
    "    for val in split_val:\n",
    "        # call the convert function\n",
    "        value = convert(val)\n",
    "        converted_dict.append(value)\n",
    "    # after converting dict merge it in one large dictionary\n",
    "    for dict_vale in converted_dict:\n",
    "        combine_dict.update(dict_vale)\n",
    "    # print the key and the len of the value    \n",
    "    for key,value in combine_dict.items():\n",
    "        print(\"{key}:{value}\".format(key = key, value = len(value)))\n",
    "\n",
    "# function to convert array to dictionary\n",
    "def convert(value): \n",
    "    converted_value = iter(value)\n",
    "    result = dict(zip(converted_value, converted_value))\n",
    "    return result\n",
    "# call the main function pass the sample inputs\n",
    "show_args(\"F1='/mnt/data.docx'\", \"F2='/mnt/xxx.docx'\", \"F3='/mnt/file123.jpg'\") "
   ]
  },
  {
   "cell_type": "code",
   "execution_count": null,
   "metadata": {},
   "outputs": [],
   "source": []
  }
 ],
 "metadata": {
  "kernelspec": {
   "display_name": "Python 3",
   "language": "python",
   "name": "python3"
  },
  "language_info": {
   "codemirror_mode": {
    "name": "ipython",
    "version": 3
   },
   "file_extension": ".py",
   "mimetype": "text/x-python",
   "name": "python",
   "nbconvert_exporter": "python",
   "pygments_lexer": "ipython3",
   "version": "3.8.5"
  }
 },
 "nbformat": 4,
 "nbformat_minor": 4
}
