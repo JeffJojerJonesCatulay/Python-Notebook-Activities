{
 "cells": [
  {
   "cell_type": "markdown",
   "metadata": {},
   "source": [
    "<H1>Jeff Jojer Jones E. Catulay</H1>\n",
    "BSCS 3B"
   ]
  },
  {
   "cell_type": "markdown",
   "metadata": {},
   "source": [
    "<h4>Import necessary libraries</h4>"
   ]
  },
  {
   "cell_type": "code",
   "execution_count": 1,
   "metadata": {},
   "outputs": [],
   "source": [
    "# import library\n",
    "# pip install pandas\n",
    "# pip install numpy\n",
    "import pandas as pd, numpy as np"
   ]
  },
  {
   "cell_type": "markdown",
   "metadata": {},
   "source": [
    "<h4>Import dataset</h4>"
   ]
  },
  {
   "cell_type": "code",
   "execution_count": 2,
   "metadata": {},
   "outputs": [
    {
     "data": {
      "text/html": [
       "<div>\n",
       "<style scoped>\n",
       "    .dataframe tbody tr th:only-of-type {\n",
       "        vertical-align: middle;\n",
       "    }\n",
       "\n",
       "    .dataframe tbody tr th {\n",
       "        vertical-align: top;\n",
       "    }\n",
       "\n",
       "    .dataframe thead th {\n",
       "        text-align: right;\n",
       "    }\n",
       "</style>\n",
       "<table border=\"1\" class=\"dataframe\">\n",
       "  <thead>\n",
       "    <tr style=\"text-align: right;\">\n",
       "      <th></th>\n",
       "      <th>InvoiceNo</th>\n",
       "      <th>StockCode</th>\n",
       "      <th>Description</th>\n",
       "      <th>Quantity</th>\n",
       "      <th>InvoiceDate</th>\n",
       "      <th>UnitPrice</th>\n",
       "      <th>CustomerID</th>\n",
       "      <th>Country</th>\n",
       "    </tr>\n",
       "  </thead>\n",
       "  <tbody>\n",
       "    <tr>\n",
       "      <th>0</th>\n",
       "      <td>536365</td>\n",
       "      <td>85123A</td>\n",
       "      <td>WHITE HANGING HEART T-LIGHT HOLDER</td>\n",
       "      <td>6</td>\n",
       "      <td>2010-12-01 08:26:00</td>\n",
       "      <td>2.55</td>\n",
       "      <td>17850.0</td>\n",
       "      <td>United Kingdom</td>\n",
       "    </tr>\n",
       "    <tr>\n",
       "      <th>1</th>\n",
       "      <td>536365</td>\n",
       "      <td>71053</td>\n",
       "      <td>WHITE METAL LANTERN</td>\n",
       "      <td>6</td>\n",
       "      <td>2010-12-01 08:26:00</td>\n",
       "      <td>3.39</td>\n",
       "      <td>17850.0</td>\n",
       "      <td>United Kingdom</td>\n",
       "    </tr>\n",
       "    <tr>\n",
       "      <th>2</th>\n",
       "      <td>536365</td>\n",
       "      <td>84406B</td>\n",
       "      <td>CREAM CUPID HEARTS COAT HANGER</td>\n",
       "      <td>8</td>\n",
       "      <td>2010-12-01 08:26:00</td>\n",
       "      <td>2.75</td>\n",
       "      <td>17850.0</td>\n",
       "      <td>United Kingdom</td>\n",
       "    </tr>\n",
       "    <tr>\n",
       "      <th>3</th>\n",
       "      <td>536365</td>\n",
       "      <td>84029G</td>\n",
       "      <td>KNITTED UNION FLAG HOT WATER BOTTLE</td>\n",
       "      <td>6</td>\n",
       "      <td>2010-12-01 08:26:00</td>\n",
       "      <td>3.39</td>\n",
       "      <td>17850.0</td>\n",
       "      <td>United Kingdom</td>\n",
       "    </tr>\n",
       "    <tr>\n",
       "      <th>4</th>\n",
       "      <td>536365</td>\n",
       "      <td>84029E</td>\n",
       "      <td>RED WOOLLY HOTTIE WHITE HEART.</td>\n",
       "      <td>6</td>\n",
       "      <td>2010-12-01 08:26:00</td>\n",
       "      <td>3.39</td>\n",
       "      <td>17850.0</td>\n",
       "      <td>United Kingdom</td>\n",
       "    </tr>\n",
       "    <tr>\n",
       "      <th>...</th>\n",
       "      <td>...</td>\n",
       "      <td>...</td>\n",
       "      <td>...</td>\n",
       "      <td>...</td>\n",
       "      <td>...</td>\n",
       "      <td>...</td>\n",
       "      <td>...</td>\n",
       "      <td>...</td>\n",
       "    </tr>\n",
       "    <tr>\n",
       "      <th>195</th>\n",
       "      <td>536388</td>\n",
       "      <td>22469</td>\n",
       "      <td>HEART OF WICKER SMALL</td>\n",
       "      <td>12</td>\n",
       "      <td>2010-12-01 09:59:00</td>\n",
       "      <td>1.65</td>\n",
       "      <td>16250.0</td>\n",
       "      <td>United Kingdom</td>\n",
       "    </tr>\n",
       "    <tr>\n",
       "      <th>196</th>\n",
       "      <td>536388</td>\n",
       "      <td>22242</td>\n",
       "      <td>5 HOOK HANGER MAGIC TOADSTOOL</td>\n",
       "      <td>12</td>\n",
       "      <td>2010-12-01 09:59:00</td>\n",
       "      <td>1.65</td>\n",
       "      <td>16250.0</td>\n",
       "      <td>United Kingdom</td>\n",
       "    </tr>\n",
       "    <tr>\n",
       "      <th>197</th>\n",
       "      <td>536389</td>\n",
       "      <td>22941</td>\n",
       "      <td>CHRISTMAS LIGHTS 10 REINDEER</td>\n",
       "      <td>6</td>\n",
       "      <td>2010-12-01 10:03:00</td>\n",
       "      <td>8.50</td>\n",
       "      <td>12431.0</td>\n",
       "      <td>Australia</td>\n",
       "    </tr>\n",
       "    <tr>\n",
       "      <th>198</th>\n",
       "      <td>536389</td>\n",
       "      <td>21622</td>\n",
       "      <td>VINTAGE UNION JACK CUSHION COVER</td>\n",
       "      <td>8</td>\n",
       "      <td>2010-12-01 10:03:00</td>\n",
       "      <td>4.95</td>\n",
       "      <td>12431.0</td>\n",
       "      <td>Australia</td>\n",
       "    </tr>\n",
       "    <tr>\n",
       "      <th>199</th>\n",
       "      <td>536389</td>\n",
       "      <td>21791</td>\n",
       "      <td>VINTAGE HEADS AND TAILS CARD GAME</td>\n",
       "      <td>12</td>\n",
       "      <td>2010-12-01 10:03:00</td>\n",
       "      <td>1.25</td>\n",
       "      <td>12431.0</td>\n",
       "      <td>Australia</td>\n",
       "    </tr>\n",
       "  </tbody>\n",
       "</table>\n",
       "<p>200 rows × 8 columns</p>\n",
       "</div>"
      ],
      "text/plain": [
       "    InvoiceNo StockCode                          Description  Quantity  \\\n",
       "0      536365    85123A   WHITE HANGING HEART T-LIGHT HOLDER         6   \n",
       "1      536365     71053                  WHITE METAL LANTERN         6   \n",
       "2      536365    84406B       CREAM CUPID HEARTS COAT HANGER         8   \n",
       "3      536365    84029G  KNITTED UNION FLAG HOT WATER BOTTLE         6   \n",
       "4      536365    84029E       RED WOOLLY HOTTIE WHITE HEART.         6   \n",
       "..        ...       ...                                  ...       ...   \n",
       "195    536388     22469                HEART OF WICKER SMALL        12   \n",
       "196    536388     22242        5 HOOK HANGER MAGIC TOADSTOOL        12   \n",
       "197    536389     22941         CHRISTMAS LIGHTS 10 REINDEER         6   \n",
       "198    536389     21622     VINTAGE UNION JACK CUSHION COVER         8   \n",
       "199    536389     21791   VINTAGE HEADS AND TAILS CARD GAME         12   \n",
       "\n",
       "            InvoiceDate  UnitPrice  CustomerID         Country  \n",
       "0   2010-12-01 08:26:00       2.55     17850.0  United Kingdom  \n",
       "1   2010-12-01 08:26:00       3.39     17850.0  United Kingdom  \n",
       "2   2010-12-01 08:26:00       2.75     17850.0  United Kingdom  \n",
       "3   2010-12-01 08:26:00       3.39     17850.0  United Kingdom  \n",
       "4   2010-12-01 08:26:00       3.39     17850.0  United Kingdom  \n",
       "..                  ...        ...         ...             ...  \n",
       "195 2010-12-01 09:59:00       1.65     16250.0  United Kingdom  \n",
       "196 2010-12-01 09:59:00       1.65     16250.0  United Kingdom  \n",
       "197 2010-12-01 10:03:00       8.50     12431.0       Australia  \n",
       "198 2010-12-01 10:03:00       4.95     12431.0       Australia  \n",
       "199 2010-12-01 10:03:00       1.25     12431.0       Australia  \n",
       "\n",
       "[200 rows x 8 columns]"
      ]
     },
     "execution_count": 2,
     "metadata": {},
     "output_type": "execute_result"
    }
   ],
   "source": [
    "# display specific excel and sheet name\n",
    "dataset = pd.read_excel('assignment-data.xlsx', sheet_name='online-retail')\n",
    "dataset = dataset.head(200)\n",
    "dataset"
   ]
  },
  {
   "cell_type": "markdown",
   "metadata": {},
   "source": [
    "<h2>Question 3:</h2>\n",
    "Data for this question can be found in \"online-retail\" sheet from assignment-data.xlsx. Since it is a big data, load first 200 rows and keep it in the data frame called \"dataset\". This “dataset” is used for all tasks in this question\n",
    "\n",
    "Assume that you are a data scientist in Amazon. Since the company is celebrating Silver Jubilee this year, it has decided to reward their customers. Your Manager handed over last 2 years retail data and asked you to do certain tasks. The tasks are as follows:\n"
   ]
  },
  {
   "cell_type": "markdown",
   "metadata": {},
   "source": [
    "<h3>Tasks:</h3>\n",
    "<h4>Task-1: </h4>\n",
    "When you started working with data, you’ve realized that it needs cleaning to produce better results. \n",
    "Do essential data cleaning. The final output should be the one as follows"
   ]
  },
  {
   "cell_type": "markdown",
   "metadata": {},
   "source": [
    "<h4>Option 1</h4>"
   ]
  },
  {
   "cell_type": "code",
   "execution_count": 3,
   "metadata": {},
   "outputs": [
    {
     "name": "stdout",
     "output_type": "stream",
     "text": [
      "before cleaning: any negatives?: True\n",
      "after cleaning: any negatives?: False\n"
     ]
    }
   ],
   "source": [
    "# function to check before cleaning\n",
    "def before_cleaning(column_name):\n",
    "    return (dataset[column_name] < 0).any()\n",
    "\n",
    "# function to check after cleaning\n",
    "def after_cleaning(column_invoice, column_quantity):\n",
    "    cancelled_orders = dataset[dataset[column_invoice].astype(str).str.contains('C')]\n",
    "    return cancelled_orders[cancelled_orders[column_quantity]>0].any().any()\n",
    "\n",
    "# display\n",
    "print(\"before cleaning: any negatives?:\", before_cleaning(\"Quantity\"))\n",
    "print(\"after cleaning: any negatives?:\", after_cleaning(\"InvoiceNo\", \"Quantity\"))"
   ]
  },
  {
   "cell_type": "markdown",
   "metadata": {},
   "source": [
    "<h4>Task-2: </h4>\n",
    "Amazon wants to reward the customer who has done the most number of transactions, by providing a gift hamper worth 1000 pesos. \n",
    " Find out the customer who has done the most number of transactions [Note: One invoice number corresponds to one transaction]. The output should the one as below:\n"
   ]
  },
  {
   "cell_type": "markdown",
   "metadata": {},
   "source": [
    "<h4>Option 2</h4>"
   ]
  },
  {
   "cell_type": "code",
   "execution_count": 4,
   "metadata": {},
   "outputs": [
    {
     "name": "stdout",
     "output_type": "stream",
     "text": [
      "Hurray! The most number of transactions is done by Customer ID: 17850. He has made 45 transactions.\n",
      "He will be rewarded with our gift hamper worth 1000 pesos\n"
     ]
    }
   ],
   "source": [
    "# get the int value of customer id\n",
    "custID = round(dataset['CustomerID'].value_counts().idxmax())\n",
    "# query the id to find transaction\n",
    "transactions = dataset.query(f'CustomerID == {custID}').CustomerID.count()\n",
    "# display\n",
    "print(f\"Hurray! The most number of transactions is done by Customer ID: {custID}. He has made {transactions} transactions.\\nHe will be rewarded with our gift hamper worth 1000 pesos\")"
   ]
  },
  {
   "cell_type": "markdown",
   "metadata": {},
   "source": [
    "<h4>Task-3: </h4>\n",
    "Amazon wants to find the best customer and likes to reward 50% discount on his next purchase. Find the Customer with the highest amount of total purchase amount. The output should the one as below:"
   ]
  },
  {
   "cell_type": "markdown",
   "metadata": {},
   "source": [
    "<h4>Option 1</h4>"
   ]
  },
  {
   "cell_type": "code",
   "execution_count": 5,
   "metadata": {},
   "outputs": [
    {
     "name": "stdout",
     "output_type": "stream",
     "text": [
      "Customer ID:16029 is the best customer since he has spend a lot on our Business.\n",
      "His total purchase amount is 3702 pesos. 50% discount will be given on his next purchase.\n"
     ]
    }
   ],
   "source": [
    "# get the total purchase\n",
    "dataset['Total Purchase'] = dataset['Quantity'] * dataset['UnitPrice']\n",
    "# sum the groups, then arrange\n",
    "mostpurchase = dataset.groupby('CustomerID').sum().sort_values('Total Purchase', ascending=False).reset_index()\n",
    "# display\n",
    "print(f'Customer ID:{int(mostpurchase.iat[0,0])} is the best customer since he has spend a lot on our Business.\\nHis total purchase amount is {int(mostpurchase.iat[0,3])} pesos. 50% discount will be given on his next purchase.')\n"
   ]
  },
  {
   "cell_type": "markdown",
   "metadata": {},
   "source": [
    "<h4>Task-4: </h4>\n",
    "Amazon wants to find out the most and the least bought items. It likes to increase the sale of least bought item by bundling it with the most bought item and ready to give special 10% discount for this bundle. The output should be the one as below."
   ]
  },
  {
   "cell_type": "markdown",
   "metadata": {},
   "source": [
    "<h4>Option 1</h4>"
   ]
  },
  {
   "cell_type": "code",
   "execution_count": 6,
   "metadata": {},
   "outputs": [
    {
     "name": "stdout",
     "output_type": "stream",
     "text": [
      "Most bought item is StockCode 21731 with 458 in purchased quantity.\n",
      "Least bought item is StockCode 21166 with 1 in purchased quantity overall.\n",
      "These two items can be bundles and provide 10% discount on this bundle to increase the sale of StockCode 21166\n"
     ]
    }
   ],
   "source": [
    "# sum the groups, then arrange\n",
    "count_item=dataset.groupby('StockCode').sum().sort_values('Quantity', ascending=False).reset_index()\n",
    "# display\n",
    "print(f'''Most bought item is StockCode {count_item.iat[0,0]} with {count_item.iat[0,1]} in purchased quantity.\n",
    "Least bought item is StockCode {count_item.iat[143,0]} with {count_item.iat[143,1]} in purchased quantity overall.\n",
    "These two items can be bundles and provide 10% discount on this bundle to increase the sale of StockCode {count_item.iat[143,0]}''')\n"
   ]
  },
  {
   "cell_type": "markdown",
   "metadata": {},
   "source": [
    "<h4>Task-5: </h4>\n",
    "Company likes to find out overall average purchase-amount among all transactions [ one transaction indicates one invoice number]. The expected output is as follows:"
   ]
  },
  {
   "cell_type": "markdown",
   "metadata": {},
   "source": [
    "<h4>Option 1</h4>"
   ]
  },
  {
   "cell_type": "code",
   "execution_count": 7,
   "metadata": {},
   "outputs": [
    {
     "name": "stdout",
     "output_type": "stream",
     "text": [
      "Average purchase amount among all transaction = 44.39\n"
     ]
    }
   ],
   "source": [
    "total = dataset['Total Purchase'].abs().sum()\n",
    "ave = total / (len(dataset))\n",
    "print(f\"Average purchase amount among all transaction = %.2f\" % ave)"
   ]
  },
  {
   "cell_type": "code",
   "execution_count": null,
   "metadata": {},
   "outputs": [],
   "source": []
  }
 ],
 "metadata": {
  "kernelspec": {
   "display_name": "Python 3",
   "language": "python",
   "name": "python3"
  },
  "language_info": {
   "codemirror_mode": {
    "name": "ipython",
    "version": 3
   },
   "file_extension": ".py",
   "mimetype": "text/x-python",
   "name": "python",
   "nbconvert_exporter": "python",
   "pygments_lexer": "ipython3",
   "version": "3.8.5"
  }
 },
 "nbformat": 4,
 "nbformat_minor": 4
}
