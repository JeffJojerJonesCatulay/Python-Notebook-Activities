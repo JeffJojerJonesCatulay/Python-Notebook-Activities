{
 "cells": [
  {
   "cell_type": "markdown",
   "metadata": {},
   "source": [
    "# Jeff Jojer Jones E. Catulay\n",
    "BSCS 3B"
   ]
  },
  {
   "cell_type": "markdown",
   "metadata": {},
   "source": [
    "# Question: (10 marks)\n",
    "\n",
    "Use sales-data sheet from assignment-data.xlsx and do the following tasks:\n",
    "The Managing Director found that there is no clarity in sales-data. He likes to see clear visualization of data in various dimensions. He instructed his junior data scientist “Mr.Bean” to reshape the data.\n",
    "    \n",
    "# Part-1: \n",
    "Mr.Bean decided to display the product details produced by every company, along with supervisor detail. [ Hint: Use Pivot Table]. The expected output is as follows:\n",
    "\n",
    "and create a customize plot using matplotlib."
   ]
  },
  {
   "cell_type": "code",
   "execution_count": 1,
   "metadata": {},
   "outputs": [],
   "source": [
    "# import library\n",
    "# pip install pandas\n",
    "# pip install numpy\n",
    "# pip install matplotlib\n",
    "import numpy as np\n",
    "import pandas as pd\n",
    "import matplotlib.pyplot as plt"
   ]
  },
  {
   "cell_type": "code",
   "execution_count": 2,
   "metadata": {},
   "outputs": [
    {
     "data": {
      "text/html": [
       "<div>\n",
       "<style scoped>\n",
       "    .dataframe tbody tr th:only-of-type {\n",
       "        vertical-align: middle;\n",
       "    }\n",
       "\n",
       "    .dataframe tbody tr th {\n",
       "        vertical-align: top;\n",
       "    }\n",
       "\n",
       "    .dataframe thead th {\n",
       "        text-align: right;\n",
       "    }\n",
       "</style>\n",
       "<table border=\"1\" class=\"dataframe\">\n",
       "  <thead>\n",
       "    <tr style=\"text-align: right;\">\n",
       "      <th></th>\n",
       "      <th>Account-no</th>\n",
       "      <th>company-name</th>\n",
       "      <th>co-supervisor</th>\n",
       "      <th>supervisor</th>\n",
       "      <th>Product-detail</th>\n",
       "      <th>total-quantity</th>\n",
       "      <th>Price</th>\n",
       "      <th>Status</th>\n",
       "    </tr>\n",
       "  </thead>\n",
       "  <tbody>\n",
       "    <tr>\n",
       "      <th>0</th>\n",
       "      <td>A300</td>\n",
       "      <td>Apple</td>\n",
       "      <td>Julia</td>\n",
       "      <td>Peter Prince</td>\n",
       "      <td>search engine</td>\n",
       "      <td>2</td>\n",
       "      <td>40000</td>\n",
       "      <td>Finished</td>\n",
       "    </tr>\n",
       "    <tr>\n",
       "      <th>1</th>\n",
       "      <td>A300</td>\n",
       "      <td>Apple</td>\n",
       "      <td>Julia</td>\n",
       "      <td>Peter Prince</td>\n",
       "      <td>Software</td>\n",
       "      <td>2</td>\n",
       "      <td>20000</td>\n",
       "      <td>Finished</td>\n",
       "    </tr>\n",
       "    <tr>\n",
       "      <th>2</th>\n",
       "      <td>A300</td>\n",
       "      <td>Apple</td>\n",
       "      <td>Julia</td>\n",
       "      <td>Peter Prince</td>\n",
       "      <td>printer</td>\n",
       "      <td>3</td>\n",
       "      <td>6000</td>\n",
       "      <td>yet to finish</td>\n",
       "    </tr>\n",
       "    <tr>\n",
       "      <th>3</th>\n",
       "      <td>A301</td>\n",
       "      <td>Google</td>\n",
       "      <td>Julia</td>\n",
       "      <td>Peter Prince</td>\n",
       "      <td>search engine</td>\n",
       "      <td>2</td>\n",
       "      <td>45000</td>\n",
       "      <td>declined</td>\n",
       "    </tr>\n",
       "    <tr>\n",
       "      <th>4</th>\n",
       "      <td>A302</td>\n",
       "      <td>Facebook</td>\n",
       "      <td>Mary Lim</td>\n",
       "      <td>Peter Prince</td>\n",
       "      <td>search engine</td>\n",
       "      <td>3</td>\n",
       "      <td>54000</td>\n",
       "      <td>won</td>\n",
       "    </tr>\n",
       "    <tr>\n",
       "      <th>5</th>\n",
       "      <td>A304</td>\n",
       "      <td>HCL</td>\n",
       "      <td>Mary Lim</td>\n",
       "      <td>Peter Prince</td>\n",
       "      <td>search engine</td>\n",
       "      <td>3</td>\n",
       "      <td>43000</td>\n",
       "      <td>yet to finish</td>\n",
       "    </tr>\n",
       "    <tr>\n",
       "      <th>6</th>\n",
       "      <td>A304</td>\n",
       "      <td>HCL</td>\n",
       "      <td>Mary Lim</td>\n",
       "      <td>Peter Prince</td>\n",
       "      <td>Software</td>\n",
       "      <td>2</td>\n",
       "      <td>12000</td>\n",
       "      <td>Finished</td>\n",
       "    </tr>\n",
       "    <tr>\n",
       "      <th>7</th>\n",
       "      <td>A304</td>\n",
       "      <td>HCL</td>\n",
       "      <td>Jason</td>\n",
       "      <td>Peter Prince</td>\n",
       "      <td>printer</td>\n",
       "      <td>3</td>\n",
       "      <td>8000</td>\n",
       "      <td>yet to finish</td>\n",
       "    </tr>\n",
       "    <tr>\n",
       "      <th>8</th>\n",
       "      <td>A305</td>\n",
       "      <td>ABC ltd</td>\n",
       "      <td>Jason</td>\n",
       "      <td>Peter Prince</td>\n",
       "      <td>search engine</td>\n",
       "      <td>2</td>\n",
       "      <td>25000</td>\n",
       "      <td>declined</td>\n",
       "    </tr>\n",
       "    <tr>\n",
       "      <th>9</th>\n",
       "      <td>A306</td>\n",
       "      <td>SAP</td>\n",
       "      <td>Isabella</td>\n",
       "      <td>David Anderson</td>\n",
       "      <td>search engine</td>\n",
       "      <td>3</td>\n",
       "      <td>75000</td>\n",
       "      <td>won</td>\n",
       "    </tr>\n",
       "    <tr>\n",
       "      <th>10</th>\n",
       "      <td>A307</td>\n",
       "      <td>Adobe</td>\n",
       "      <td>Isabella</td>\n",
       "      <td>David Anderson</td>\n",
       "      <td>search engine</td>\n",
       "      <td>2</td>\n",
       "      <td>23000</td>\n",
       "      <td>yet to finish</td>\n",
       "    </tr>\n",
       "    <tr>\n",
       "      <th>11</th>\n",
       "      <td>A308</td>\n",
       "      <td>XYZ company</td>\n",
       "      <td>Isabella</td>\n",
       "      <td>David Anderson</td>\n",
       "      <td>printer</td>\n",
       "      <td>2</td>\n",
       "      <td>3000</td>\n",
       "      <td>yet to finish</td>\n",
       "    </tr>\n",
       "    <tr>\n",
       "      <th>12</th>\n",
       "      <td>A308</td>\n",
       "      <td>XYZ company</td>\n",
       "      <td>Isabella</td>\n",
       "      <td>David Anderson</td>\n",
       "      <td>Software</td>\n",
       "      <td>2</td>\n",
       "      <td>9000</td>\n",
       "      <td>Finished</td>\n",
       "    </tr>\n",
       "    <tr>\n",
       "      <th>13</th>\n",
       "      <td>A309</td>\n",
       "      <td>Microsoft</td>\n",
       "      <td>Xavier</td>\n",
       "      <td>David Anderson</td>\n",
       "      <td>printer</td>\n",
       "      <td>4</td>\n",
       "      <td>5000</td>\n",
       "      <td>won</td>\n",
       "    </tr>\n",
       "    <tr>\n",
       "      <th>14</th>\n",
       "      <td>A310</td>\n",
       "      <td>Oracle</td>\n",
       "      <td>Xavier</td>\n",
       "      <td>David Anderson</td>\n",
       "      <td>search engine</td>\n",
       "      <td>6</td>\n",
       "      <td>90000</td>\n",
       "      <td>won</td>\n",
       "    </tr>\n",
       "    <tr>\n",
       "      <th>15</th>\n",
       "      <td>A311</td>\n",
       "      <td>Infosys</td>\n",
       "      <td>Xavier</td>\n",
       "      <td>David Anderson</td>\n",
       "      <td>search engine</td>\n",
       "      <td>3</td>\n",
       "      <td>69000</td>\n",
       "      <td>declined</td>\n",
       "    </tr>\n",
       "    <tr>\n",
       "      <th>16</th>\n",
       "      <td>A312</td>\n",
       "      <td>Infosys</td>\n",
       "      <td>Xavier</td>\n",
       "      <td>David Anderson</td>\n",
       "      <td>Monitor</td>\n",
       "      <td>3</td>\n",
       "      <td>4000</td>\n",
       "      <td>Finished</td>\n",
       "    </tr>\n",
       "  </tbody>\n",
       "</table>\n",
       "</div>"
      ],
      "text/plain": [
       "   Account-no company-name co-supervisor      supervisor Product-detail  \\\n",
       "0        A300        Apple         Julia    Peter Prince  search engine   \n",
       "1        A300        Apple         Julia    Peter Prince       Software   \n",
       "2        A300        Apple         Julia    Peter Prince        printer   \n",
       "3        A301       Google         Julia    Peter Prince  search engine   \n",
       "4        A302     Facebook      Mary Lim    Peter Prince  search engine   \n",
       "5        A304          HCL      Mary Lim    Peter Prince  search engine   \n",
       "6        A304          HCL      Mary Lim    Peter Prince       Software   \n",
       "7        A304          HCL         Jason    Peter Prince        printer   \n",
       "8        A305      ABC ltd         Jason    Peter Prince  search engine   \n",
       "9        A306          SAP      Isabella  David Anderson  search engine   \n",
       "10       A307        Adobe      Isabella  David Anderson  search engine   \n",
       "11       A308  XYZ company      Isabella  David Anderson        printer   \n",
       "12       A308  XYZ company      Isabella  David Anderson       Software   \n",
       "13       A309    Microsoft        Xavier  David Anderson        printer   \n",
       "14       A310       Oracle        Xavier  David Anderson  search engine   \n",
       "15       A311      Infosys        Xavier  David Anderson  search engine   \n",
       "16       A312      Infosys        Xavier  David Anderson        Monitor   \n",
       "\n",
       "    total-quantity  Price         Status  \n",
       "0                2  40000       Finished  \n",
       "1                2  20000       Finished  \n",
       "2                3   6000  yet to finish  \n",
       "3                2  45000       declined  \n",
       "4                3  54000            won  \n",
       "5                3  43000  yet to finish  \n",
       "6                2  12000       Finished  \n",
       "7                3   8000  yet to finish  \n",
       "8                2  25000       declined  \n",
       "9                3  75000            won  \n",
       "10               2  23000  yet to finish  \n",
       "11               2   3000  yet to finish  \n",
       "12               2   9000       Finished  \n",
       "13               4   5000            won  \n",
       "14               6  90000            won  \n",
       "15               3  69000       declined  \n",
       "16               3   4000       Finished  "
      ]
     },
     "execution_count": 2,
     "metadata": {},
     "output_type": "execute_result"
    }
   ],
   "source": [
    "# load the specific excel file and sheet name\n",
    "# pip install pyexcel\n",
    "df = pd.read_excel('assignment-data.xlsx', sheet_name='sales-data')\n",
    "df"
   ]
  },
  {
   "cell_type": "code",
   "execution_count": 3,
   "metadata": {},
   "outputs": [
    {
     "data": {
      "text/html": [
       "<div>\n",
       "<style scoped>\n",
       "    .dataframe tbody tr th:only-of-type {\n",
       "        vertical-align: middle;\n",
       "    }\n",
       "\n",
       "    .dataframe tbody tr th {\n",
       "        vertical-align: top;\n",
       "    }\n",
       "\n",
       "    .dataframe thead tr th {\n",
       "        text-align: left;\n",
       "    }\n",
       "\n",
       "    .dataframe thead tr:last-of-type th {\n",
       "        text-align: right;\n",
       "    }\n",
       "</style>\n",
       "<table border=\"1\" class=\"dataframe\">\n",
       "  <thead>\n",
       "    <tr>\n",
       "      <th></th>\n",
       "      <th></th>\n",
       "      <th colspan=\"4\" halign=\"left\">Price</th>\n",
       "    </tr>\n",
       "    <tr>\n",
       "      <th></th>\n",
       "      <th>Product-detail</th>\n",
       "      <th>Monitor</th>\n",
       "      <th>Software</th>\n",
       "      <th>printer</th>\n",
       "      <th>search engine</th>\n",
       "    </tr>\n",
       "    <tr>\n",
       "      <th>supervisor</th>\n",
       "      <th>company-name</th>\n",
       "      <th></th>\n",
       "      <th></th>\n",
       "      <th></th>\n",
       "      <th></th>\n",
       "    </tr>\n",
       "  </thead>\n",
       "  <tbody>\n",
       "    <tr>\n",
       "      <th rowspan=\"6\" valign=\"top\">David Anderson</th>\n",
       "      <th>Adobe</th>\n",
       "      <td>0</td>\n",
       "      <td>0</td>\n",
       "      <td>0</td>\n",
       "      <td>23000</td>\n",
       "    </tr>\n",
       "    <tr>\n",
       "      <th>Infosys</th>\n",
       "      <td>4000</td>\n",
       "      <td>0</td>\n",
       "      <td>0</td>\n",
       "      <td>69000</td>\n",
       "    </tr>\n",
       "    <tr>\n",
       "      <th>Microsoft</th>\n",
       "      <td>0</td>\n",
       "      <td>0</td>\n",
       "      <td>5000</td>\n",
       "      <td>0</td>\n",
       "    </tr>\n",
       "    <tr>\n",
       "      <th>Oracle</th>\n",
       "      <td>0</td>\n",
       "      <td>0</td>\n",
       "      <td>0</td>\n",
       "      <td>90000</td>\n",
       "    </tr>\n",
       "    <tr>\n",
       "      <th>SAP</th>\n",
       "      <td>0</td>\n",
       "      <td>0</td>\n",
       "      <td>0</td>\n",
       "      <td>75000</td>\n",
       "    </tr>\n",
       "    <tr>\n",
       "      <th>XYZ company</th>\n",
       "      <td>0</td>\n",
       "      <td>9000</td>\n",
       "      <td>3000</td>\n",
       "      <td>0</td>\n",
       "    </tr>\n",
       "    <tr>\n",
       "      <th rowspan=\"5\" valign=\"top\">Peter Prince</th>\n",
       "      <th>ABC ltd</th>\n",
       "      <td>0</td>\n",
       "      <td>0</td>\n",
       "      <td>0</td>\n",
       "      <td>25000</td>\n",
       "    </tr>\n",
       "    <tr>\n",
       "      <th>Apple</th>\n",
       "      <td>0</td>\n",
       "      <td>20000</td>\n",
       "      <td>6000</td>\n",
       "      <td>40000</td>\n",
       "    </tr>\n",
       "    <tr>\n",
       "      <th>Facebook</th>\n",
       "      <td>0</td>\n",
       "      <td>0</td>\n",
       "      <td>0</td>\n",
       "      <td>54000</td>\n",
       "    </tr>\n",
       "    <tr>\n",
       "      <th>Google</th>\n",
       "      <td>0</td>\n",
       "      <td>0</td>\n",
       "      <td>0</td>\n",
       "      <td>45000</td>\n",
       "    </tr>\n",
       "    <tr>\n",
       "      <th>HCL</th>\n",
       "      <td>0</td>\n",
       "      <td>12000</td>\n",
       "      <td>8000</td>\n",
       "      <td>43000</td>\n",
       "    </tr>\n",
       "  </tbody>\n",
       "</table>\n",
       "</div>"
      ],
      "text/plain": [
       "                              Price                               \n",
       "Product-detail              Monitor Software printer search engine\n",
       "supervisor     company-name                                       \n",
       "David Anderson Adobe              0        0       0         23000\n",
       "               Infosys         4000        0       0         69000\n",
       "               Microsoft          0        0    5000             0\n",
       "               Oracle             0        0       0         90000\n",
       "               SAP                0        0       0         75000\n",
       "               XYZ company        0     9000    3000             0\n",
       "Peter Prince   ABC ltd            0        0       0         25000\n",
       "               Apple              0    20000    6000         40000\n",
       "               Facebook           0        0       0         54000\n",
       "               Google             0        0       0         45000\n",
       "               HCL                0    12000    8000         43000"
      ]
     },
     "execution_count": 3,
     "metadata": {},
     "output_type": "execute_result"
    }
   ],
   "source": [
    "# pivot the dataframe\n",
    "table_value = pd.pivot_table(df, values=['Price'], index=['supervisor', 'company-name'],\n",
    "                    columns=['Product-detail'], fill_value=0)\n",
    "table_value"
   ]
  },
  {
   "cell_type": "code",
   "execution_count": 4,
   "metadata": {},
   "outputs": [
    {
     "data": {
      "text/plain": [
       "<AxesSubplot:xlabel='supervisor,company-name'>"
      ]
     },
     "execution_count": 4,
     "metadata": {},
     "output_type": "execute_result"
    },
    {
     "data": {
      "image/png": "[encoded data removed]",
      "text/plain": [
       "<Figure size 1080x432 with 1 Axes>"
      ]
     },
     "metadata": {
      "needs_background": "light"
     },
     "output_type": "display_data"
    }
   ],
   "source": [
    "# plot the pivot table\n",
    "table_value.plot(figsize=(15,6))"
   ]
  },
  {
   "cell_type": "markdown",
   "metadata": {},
   "source": [
    "# Part 2:  (10 marks)\n",
    "\n",
    "Mr.Bean decided to show the top 5companies that have the most 'total-quantity' ordered. Expected output is as follows"
   ]
  },
  {
   "cell_type": "code",
   "execution_count": 5,
   "metadata": {},
   "outputs": [
    {
     "data": {
      "text/plain": [
       "Text(0, 0.5, 'Prices')"
      ]
     },
     "execution_count": 5,
     "metadata": {},
     "output_type": "execute_result"
    },
    {
     "data": {
      "image/png": "[encoded data removed]",
      "text/plain": [
       "<Figure size 1080x432 with 1 Axes>"
      ]
     },
     "metadata": {
      "needs_background": "light"
     },
     "output_type": "display_data"
    }
   ],
   "source": [
    "# get the total quantity then sort\n",
    "table_value_quantity = pd.pivot_table(df, values=['total-quantity'], index=['company-name'], aggfunc='sum')\n",
    "quantity_graph = table_value_quantity.sort_values(by=[\"total-quantity\"], ascending=False)\n",
    "# define the graph values\n",
    "quantity_graph.head(5).plot(kind='bar', figsize=(15,6))\n",
    "plt.title(\"Top 5 Companies with most orders\")\n",
    "plt.xlabel(\"companies\")\n",
    "plt.ylabel(\"Prices\")"
   ]
  },
  {
   "cell_type": "markdown",
   "metadata": {},
   "source": [
    "# Part 3: (30 marks)\n",
    "\n",
    "Further, “Mr.Bean” has created a scatterplot showing total-quantity vs Price for  3 companies Apple, HCL and Infosys. Expected output is as follows:"
   ]
  },
  {
   "cell_type": "code",
   "execution_count": 6,
   "metadata": {},
   "outputs": [
    {
     "data": {
      "text/html": [
       "<div>\n",
       "<style scoped>\n",
       "    .dataframe tbody tr th:only-of-type {\n",
       "        vertical-align: middle;\n",
       "    }\n",
       "\n",
       "    .dataframe tbody tr th {\n",
       "        vertical-align: top;\n",
       "    }\n",
       "\n",
       "    .dataframe thead th {\n",
       "        text-align: right;\n",
       "    }\n",
       "</style>\n",
       "<table border=\"1\" class=\"dataframe\">\n",
       "  <thead>\n",
       "    <tr style=\"text-align: right;\">\n",
       "      <th></th>\n",
       "      <th>company-name</th>\n",
       "      <th>total-quantity</th>\n",
       "      <th>Price</th>\n",
       "    </tr>\n",
       "  </thead>\n",
       "  <tbody>\n",
       "    <tr>\n",
       "      <th>0</th>\n",
       "      <td>HCL</td>\n",
       "      <td>8</td>\n",
       "      <td>63000</td>\n",
       "    </tr>\n",
       "    <tr>\n",
       "      <th>1</th>\n",
       "      <td>Apple</td>\n",
       "      <td>7</td>\n",
       "      <td>66000</td>\n",
       "    </tr>\n",
       "    <tr>\n",
       "      <th>2</th>\n",
       "      <td>Infosys</td>\n",
       "      <td>6</td>\n",
       "      <td>73000</td>\n",
       "    </tr>\n",
       "  </tbody>\n",
       "</table>\n",
       "</div>"
      ],
      "text/plain": [
       "  company-name  total-quantity  Price\n",
       "0          HCL               8  63000\n",
       "1        Apple               7  66000\n",
       "2      Infosys               6  73000"
      ]
     },
     "execution_count": 6,
     "metadata": {},
     "output_type": "execute_result"
    }
   ],
   "source": [
    "# get the top 3 companies along with quantity and price\n",
    "company_data = df.groupby('company-name').sum().sort_values('total-quantity',ascending=False).reset_index() \n",
    "company_data.iloc[0:3]"
   ]
  },
  {
   "cell_type": "code",
   "execution_count": 7,
   "metadata": {},
   "outputs": [],
   "source": [
    "# class for graphing\n",
    "class plot_graph:\n",
    "    # initialize\n",
    "    def __init__(self, graph_title, location):\n",
    "        self.graph_title = graph_title\n",
    "        self.location = location\n",
    "    # plot the graph\n",
    "    def graph(self):\n",
    "        # scatter plot\n",
    "        plt.scatter(\"total-quantity\", \"Price\", data = company_data.iloc[self.location])\n",
    "        plt.xlabel(\"total-quantity\")\n",
    "        plt.xticks(range(4,10,2))\n",
    "        plt.ylabel(\"Price\")\n",
    "        plt.yticks(range(0,80000,20000))\n",
    "        plt.title(self.graph_title)\n",
    "        plt.show()"
   ]
  },
  {
   "cell_type": "code",
   "execution_count": 8,
   "metadata": {},
   "outputs": [
    {
     "data": {
      "image/png": "[encoded data removed]",
      "text/plain": [
       "<Figure size 432x288 with 1 Axes>"
      ]
     },
     "metadata": {
      "needs_background": "light"
     },
     "output_type": "display_data"
    },
    {
     "data": {
      "image/png": "[encoded data removed]",
      "text/plain": [
       "<Figure size 432x288 with 1 Axes>"
      ]
     },
     "metadata": {
      "needs_background": "light"
     },
     "output_type": "display_data"
    },
    {
     "data": {
      "image/png": "[encoded data removed]",
      "text/plain": [
       "<Figure size 432x288 with 1 Axes>"
      ]
     },
     "metadata": {
      "needs_background": "light"
     },
     "output_type": "display_data"
    }
   ],
   "source": [
    "# graph for apple\n",
    "apple = plot_graph(\"company-name = Apple\", 1)\n",
    "apple.graph()\n",
    "\n",
    "# graph for HCL\n",
    "hcl = plot_graph(\"company-name = HCL\", 0)\n",
    "hcl.graph()\n",
    "\n",
    "# graph for infosys\n",
    "infosys = plot_graph(\"company-name = Infosys\", 2)\n",
    "infosys.graph()"
   ]
  },
  {
   "cell_type": "code",
   "execution_count": null,
   "metadata": {},
   "outputs": [],
   "source": []
  }
 ],
 "metadata": {
  "kernelspec": {
   "display_name": "Python 3",
   "language": "python",
   "name": "python3"
  },
  "language_info": {
   "codemirror_mode": {
    "name": "ipython",
    "version": 3
   },
   "file_extension": ".py",
   "mimetype": "text/x-python",
   "name": "python",
   "nbconvert_exporter": "python",
   "pygments_lexer": "ipython3",
   "version": "3.8.5"
  }
 },
 "nbformat": 4,
 "nbformat_minor": 4
}
