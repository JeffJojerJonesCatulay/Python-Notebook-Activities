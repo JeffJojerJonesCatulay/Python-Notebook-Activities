{
 "cells": [
  {
   "cell_type": "markdown",
   "metadata": {},
   "source": [
    "# <h1> Lab Exercise No. 1 </h1>\n",
    "Jeff Jojer Jones E. Catulay BSCS 3B"
   ]
  },
  {
   "cell_type": "markdown",
   "metadata": {},
   "source": [
    "# Question: 1\n",
    "Given Price=300, use python to figure out the square root of the price"
   ]
  },
  {
   "cell_type": "code",
   "execution_count": 2,
   "metadata": {},
   "outputs": [
    {
     "data": {
      "text/plain": [
       "17.320508075688775"
      ]
     },
     "execution_count": 2,
     "metadata": {},
     "output_type": "execute_result"
    }
   ],
   "source": [
    "import math\n",
    "price = 300\n",
    "result = math.sqrt(price)\n",
    "result"
   ]
  },
  {
   "cell_type": "markdown",
   "metadata": {},
   "source": [
    "# Question: 2\n",
    "Given the String: Stock_index=\"SP500\", Grab 500 from the string using indexing and also show its indices "
   ]
  },
  {
   "cell_type": "code",
   "execution_count": 15,
   "metadata": {},
   "outputs": [
    {
     "name": "stdout",
     "output_type": "stream",
     "text": [
      "Grabbed String = 500\n"
     ]
    }
   ],
   "source": [
    "import numpy as np\n",
    "stock_index = np.array(['S', 'P', '5', '0', '0'])\n",
    "print('Grabbed String = {0}{1}{2}'.format(stock_index[2], stock_index[3], stock_index[4]))"
   ]
  },
  {
   "cell_type": "markdown",
   "metadata": {},
   "source": [
    "# Question: 3\n",
    "Given the variables: stock_index=\"SP500\" and price=300, Use .format() to print the following string: "
   ]
  },
  {
   "cell_type": "code",
   "execution_count": 17,
   "metadata": {},
   "outputs": [
    {
     "name": "stdout",
     "output_type": "stream",
     "text": [
      "The SP500 is at 300 today \n"
     ]
    }
   ],
   "source": [
    "stock_index=\"SP500\"\n",
    "price=300\n",
    "print(\"The {0} is at {1} today \".format(stock_index, price))"
   ]
  },
  {
   "cell_type": "markdown",
   "metadata": {},
   "source": [
    "# Question: 4\n",
    "Create stock_info dictionary as follows "
   ]
  },
  {
   "cell_type": "code",
   "execution_count": 18,
   "metadata": {},
   "outputs": [
    {
     "name": "stdout",
     "output_type": "stream",
     "text": [
      "Output 1: Yesterday's reliance share price was 250 pesos per share\n",
      "Output 2: The number 365 is nested inside a list nested inside the 'info' key\n"
     ]
    }
   ],
   "source": [
    "# Default Dictionary\n",
    "stock_info={'reliance': {'today':300,'Yesterday':250},                                           \n",
    "              'info':['Time',[24,7,365]]}\n",
    "\n",
    "# Fetching 1st Word - Yesterday\n",
    "word_one = stock_info['reliance']\n",
    "word_one_res = list(word_one.keys())[1]\n",
    "\n",
    "# Fetching 2nd Word - reliance\n",
    "word_two_res = list(stock_info.keys())[0]\n",
    "\n",
    "# Fetching Number - 250\n",
    "num_one_res = stock_info['reliance']['Yesterday']\n",
    "\n",
    "# Fetching Number - 365\n",
    "num_two_res = stock_info['info'][1][2]\n",
    "\n",
    "# Fetching 3rd Word - info\n",
    "word_three_res = list(stock_info.keys())[1]\n",
    "\n",
    "print(\"Output 1: {0}'s {1} share price was {2} pesos per share\" .format(word_one_res, word_two_res,num_one_res))\n",
    "print(\"Output 2: The number {0} is nested inside a list nested inside the '{1}' key\".format(num_two_res, word_three_res))"
   ]
  },
  {
   "cell_type": "markdown",
   "metadata": {},
   "source": [
    "# Question: 5\n",
    "Create a function called price-finder that returns True if the word ‘price’ is in the string: \n",
    " \n",
    "Your definition must accept different types of inputs as shown below:"
   ]
  },
  {
   "cell_type": "code",
   "execution_count": 19,
   "metadata": {},
   "outputs": [
    {
     "name": "stdout",
     "output_type": "stream",
     "text": [
      "“PRICE of 1 litre petrol is 45 pesos” \n",
      "“(PRICE) of 1 litre petrol is 45 pesos” \n",
      " “PrIcE of 1 litre petrol is 45 pesos” \n",
      "“1 litre petrol price is 45 pesos” \n",
      " “ cost of 1 litre is 54 pesos \n",
      "\n",
      "Expected Output:\n",
      "True\n",
      "True\n",
      "True\n",
      "True\n",
      "False\n"
     ]
    }
   ],
   "source": [
    "expected_output = []\n",
    "for x in range(5):\n",
    "    input_one = input()\n",
    "    input_res = input_one.lower()\n",
    "    result = 'price' in input_res\n",
    "    expected_output.append(result) \n",
    "print(\"\\nExpected Output:\")    \n",
    "for item in expected_output:\n",
    "    print(item)"
   ]
  },
  {
   "cell_type": "code",
   "execution_count": null,
   "metadata": {},
   "outputs": [],
   "source": []
  }
 ],
 "metadata": {
  "kernelspec": {
   "display_name": "Python 3",
   "language": "python",
   "name": "python3"
  },
  "language_info": {
   "codemirror_mode": {
    "name": "ipython",
    "version": 3
   },
   "file_extension": ".py",
   "mimetype": "text/x-python",
   "name": "python",
   "nbconvert_exporter": "python",
   "pygments_lexer": "ipython3",
   "version": "3.8.5"
  }
 },
 "nbformat": 4,
 "nbformat_minor": 4
}
